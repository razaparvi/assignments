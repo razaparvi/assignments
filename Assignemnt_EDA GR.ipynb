{
  "nbformat": 4,
  "nbformat_minor": 0,
  "metadata": {
    "colab": {
      "provenance": []
    },
    "kernelspec": {
      "name": "python3",
      "display_name": "Python 3"
    },
    "language_info": {
      "name": "python"
    }
  },
  "cells": [
    {
      "cell_type": "code",
      "execution_count": 67,
      "metadata": {
        "id": "ISCeNnY9oVuI"
      },
      "outputs": [],
      "source": [
        "import pandas as pd\n",
        "import numpy as np\n",
        "import matplotlib.pyplot as plt\n",
        "import seaborn as sns\n"
      ]
    },
    {
      "cell_type": "markdown",
      "source": [
        "Data loading"
      ],
      "metadata": {
        "id": "3Jg9RfWVpF5c"
      }
    },
    {
      "cell_type": "code",
      "source": [
        "df = pd.read_csv('/content/Airbnb - Airbnb.csv')"
      ],
      "metadata": {
        "id": "sKuorotepJXL"
      },
      "execution_count": 68,
      "outputs": []
    },
    {
      "cell_type": "markdown",
      "source": [
        "Q.3) Print the first 20 rows of the dataset to get an initial understanding of its structure and content"
      ],
      "metadata": {
        "id": "Opy3ijDapdDp"
      }
    },
    {
      "cell_type": "code",
      "source": [
        "df.head(20)"
      ],
      "metadata": {
        "colab": {
          "base_uri": "https://localhost:8080/",
          "height": 1000
        },
        "id": "6OgTEBHqpiF2",
        "outputId": "b3cacf10-08a3-49e0-b92f-2a78e73347f3"
      },
      "execution_count": 69,
      "outputs": [
        {
          "output_type": "execute_result",
          "data": {
            "text/plain": [
              "      id                                              name  host_id  \\\n",
              "0   2539                Clean & quiet apt home by the park     2787   \n",
              "1   2595                             Skylit Midtown Castle     2845   \n",
              "2   3647               THE VILLAGE OF HARLEM....NEW YORK !     4632   \n",
              "3   3831                   Cozy Entire Floor of Brownstone     4869   \n",
              "4   5022  Entire Apt: Spacious Studio/Loft by central park     7192   \n",
              "5   5099         Large Cozy 1 BR Apartment In Midtown East     7322   \n",
              "6   5121                                   BlissArtsSpace!     7356   \n",
              "7   5178                   Large Furnished Room Near B'way     8967   \n",
              "8   5203                Cozy Clean Guest Room - Family Apt     7490   \n",
              "9   5238                Cute & Cozy Lower East Side 1 bdrm     7549   \n",
              "10  5295                  Beautiful 1br on Upper West Side     7702   \n",
              "11  2595                             Skylit Midtown Castle     2845   \n",
              "12  5121                                   BlissArtsSpace!     7356   \n",
              "13  5295                  Beautiful 1br on Upper West Side     7702   \n",
              "14  6090                     West Village Nest - Superhost    11975   \n",
              "15  7097                 Perfect for Your Parents + Garden    17571   \n",
              "16  5441                   Central Manhattan/near Broadway     7989   \n",
              "17  5803    Lovely Room 1, Garden, Best Area, Legal rental     9744   \n",
              "18  6021  Wonderful Guest Bedroom in Manhattan for SINGLES    11528   \n",
              "19  6090                     West Village Nest - Superhost    11975   \n",
              "\n",
              "      host_name neighbourhood group       neighbourhood  latitude  longitude  \\\n",
              "0          John            Brooklyn          Kensington  40.64749  -73.97237   \n",
              "1      Jennifer           Manhattan             Midtown  40.75362  -73.98377   \n",
              "2     Elisabeth           Manhattan              Harlem  40.80902  -73.94190   \n",
              "3   LisaRoxanne            Brooklyn        Clinton Hill  40.68514  -73.95976   \n",
              "4         Laura           Manhattan         East Harlem  40.79851  -73.94399   \n",
              "5         Chris           Manhattan         Murray Hill  40.74767  -73.97500   \n",
              "6         Garon            Brooklyn  Bedford-Stuyvesant  40.68688  -73.95596   \n",
              "7      Shunichi           Manhattan      Hell's Kitchen  40.76489  -73.98493   \n",
              "8     MaryEllen           Manhattan     Upper West Side  40.80178  -73.96723   \n",
              "9           Ben           Manhattan           Chinatown  40.71344  -73.99037   \n",
              "10         Lena           Manhattan     Upper West Side  40.80316  -73.96545   \n",
              "11     Jennifer           Manhattan             Midtown  40.75362  -73.98377   \n",
              "12        Garon            Brooklyn  Bedford-Stuyvesant  40.68688  -73.95596   \n",
              "13         Lena           Manhattan     Upper West Side  40.80316  -73.96545   \n",
              "14        Alina           Manhattan        West Village  40.73530  -74.00525   \n",
              "15         Jane            Brooklyn         Fort Greene  40.69169  -73.97185   \n",
              "16         Kate           Manhattan      Hell's Kitchen  40.76076  -73.98867   \n",
              "17       Laurie            Brooklyn         South Slope  40.66829  -73.98779   \n",
              "18      Claudio           Manhattan     Upper West Side  40.79826  -73.96113   \n",
              "19        Alina           Manhattan        West Village  40.73530  -74.00525   \n",
              "\n",
              "          room type  price  minimum nights  number_of_reviews last review  \\\n",
              "0      Private room  149.0             1.0                  9  10/19/2018   \n",
              "1   Entire home/apt  225.0             1.0                 45   5/21/2019   \n",
              "2      Private room  150.0             3.0                  0         NaN   \n",
              "3   Entire home/apt   89.0             1.0                270    7/5/2019   \n",
              "4   Entire home/apt   80.0            10.0                  9  11/19/2018   \n",
              "5   Entire home/apt  200.0             3.0                 74   6/22/2019   \n",
              "6      Private room   60.0            45.0                 49   10/5/2017   \n",
              "7      Private room   79.0             2.0                430   6/24/2019   \n",
              "8      Private room   79.0             2.0                118   7/21/2017   \n",
              "9   Entire home/apt  150.0             1.0                160    6/9/2019   \n",
              "10  Entire home/apt  135.0             5.0                 53   6/22/2019   \n",
              "11  Entire home/apt  225.0             1.0                 45   5/21/2019   \n",
              "12     Private room   60.0            45.0                 49   10/5/2017   \n",
              "13  Entire home/apt  135.0             5.0                 53   6/22/2019   \n",
              "14  Entire home/apt  120.0            90.0                 27  10/31/2018   \n",
              "15  Entire home/apt  215.0             2.0                198   6/28/2019   \n",
              "16     Private room   85.0             2.0                188   6/23/2019   \n",
              "17     Private room   89.0             4.0                167   6/24/2019   \n",
              "18     Private room   85.0             2.0                113    7/5/2019   \n",
              "19  Entire home/apt  120.0            90.0                 27  10/31/2018   \n",
              "\n",
              "    reviews_per_month  calculated_host_listings_count  availability_365  \n",
              "0                0.21                               6               365  \n",
              "1                0.38                               2               355  \n",
              "2                 NaN                               1               365  \n",
              "3                4.64                               1               194  \n",
              "4                0.10                               1                 0  \n",
              "5                0.59                               1               129  \n",
              "6                0.40                               1                 0  \n",
              "7                3.47                               1               220  \n",
              "8                0.99                               1                 0  \n",
              "9                1.33                               4               188  \n",
              "10               0.43                               1                 6  \n",
              "11               0.38                               2               355  \n",
              "12               0.40                               1                 0  \n",
              "13               0.43                               1                 6  \n",
              "14               0.22                               1                 0  \n",
              "15               1.72                               1               321  \n",
              "16               1.50                               1                39  \n",
              "17               1.34                               3               314  \n",
              "18               0.91                               1               333  \n",
              "19               0.22                               1                 0  "
            ],
            "text/html": [
              "\n",
              "  <div id=\"df-2b952e18-31fd-4e8d-b85e-a598d64b1fd0\" class=\"colab-df-container\">\n",
              "    <div>\n",
              "<style scoped>\n",
              "    .dataframe tbody tr th:only-of-type {\n",
              "        vertical-align: middle;\n",
              "    }\n",
              "\n",
              "    .dataframe tbody tr th {\n",
              "        vertical-align: top;\n",
              "    }\n",
              "\n",
              "    .dataframe thead th {\n",
              "        text-align: right;\n",
              "    }\n",
              "</style>\n",
              "<table border=\"1\" class=\"dataframe\">\n",
              "  <thead>\n",
              "    <tr style=\"text-align: right;\">\n",
              "      <th></th>\n",
              "      <th>id</th>\n",
              "      <th>name</th>\n",
              "      <th>host_id</th>\n",
              "      <th>host_name</th>\n",
              "      <th>neighbourhood group</th>\n",
              "      <th>neighbourhood</th>\n",
              "      <th>latitude</th>\n",
              "      <th>longitude</th>\n",
              "      <th>room type</th>\n",
              "      <th>price</th>\n",
              "      <th>minimum nights</th>\n",
              "      <th>number_of_reviews</th>\n",
              "      <th>last review</th>\n",
              "      <th>reviews_per_month</th>\n",
              "      <th>calculated_host_listings_count</th>\n",
              "      <th>availability_365</th>\n",
              "    </tr>\n",
              "  </thead>\n",
              "  <tbody>\n",
              "    <tr>\n",
              "      <th>0</th>\n",
              "      <td>2539</td>\n",
              "      <td>Clean &amp; quiet apt home by the park</td>\n",
              "      <td>2787</td>\n",
              "      <td>John</td>\n",
              "      <td>Brooklyn</td>\n",
              "      <td>Kensington</td>\n",
              "      <td>40.64749</td>\n",
              "      <td>-73.97237</td>\n",
              "      <td>Private room</td>\n",
              "      <td>149.0</td>\n",
              "      <td>1.0</td>\n",
              "      <td>9</td>\n",
              "      <td>10/19/2018</td>\n",
              "      <td>0.21</td>\n",
              "      <td>6</td>\n",
              "      <td>365</td>\n",
              "    </tr>\n",
              "    <tr>\n",
              "      <th>1</th>\n",
              "      <td>2595</td>\n",
              "      <td>Skylit Midtown Castle</td>\n",
              "      <td>2845</td>\n",
              "      <td>Jennifer</td>\n",
              "      <td>Manhattan</td>\n",
              "      <td>Midtown</td>\n",
              "      <td>40.75362</td>\n",
              "      <td>-73.98377</td>\n",
              "      <td>Entire home/apt</td>\n",
              "      <td>225.0</td>\n",
              "      <td>1.0</td>\n",
              "      <td>45</td>\n",
              "      <td>5/21/2019</td>\n",
              "      <td>0.38</td>\n",
              "      <td>2</td>\n",
              "      <td>355</td>\n",
              "    </tr>\n",
              "    <tr>\n",
              "      <th>2</th>\n",
              "      <td>3647</td>\n",
              "      <td>THE VILLAGE OF HARLEM....NEW YORK !</td>\n",
              "      <td>4632</td>\n",
              "      <td>Elisabeth</td>\n",
              "      <td>Manhattan</td>\n",
              "      <td>Harlem</td>\n",
              "      <td>40.80902</td>\n",
              "      <td>-73.94190</td>\n",
              "      <td>Private room</td>\n",
              "      <td>150.0</td>\n",
              "      <td>3.0</td>\n",
              "      <td>0</td>\n",
              "      <td>NaN</td>\n",
              "      <td>NaN</td>\n",
              "      <td>1</td>\n",
              "      <td>365</td>\n",
              "    </tr>\n",
              "    <tr>\n",
              "      <th>3</th>\n",
              "      <td>3831</td>\n",
              "      <td>Cozy Entire Floor of Brownstone</td>\n",
              "      <td>4869</td>\n",
              "      <td>LisaRoxanne</td>\n",
              "      <td>Brooklyn</td>\n",
              "      <td>Clinton Hill</td>\n",
              "      <td>40.68514</td>\n",
              "      <td>-73.95976</td>\n",
              "      <td>Entire home/apt</td>\n",
              "      <td>89.0</td>\n",
              "      <td>1.0</td>\n",
              "      <td>270</td>\n",
              "      <td>7/5/2019</td>\n",
              "      <td>4.64</td>\n",
              "      <td>1</td>\n",
              "      <td>194</td>\n",
              "    </tr>\n",
              "    <tr>\n",
              "      <th>4</th>\n",
              "      <td>5022</td>\n",
              "      <td>Entire Apt: Spacious Studio/Loft by central park</td>\n",
              "      <td>7192</td>\n",
              "      <td>Laura</td>\n",
              "      <td>Manhattan</td>\n",
              "      <td>East Harlem</td>\n",
              "      <td>40.79851</td>\n",
              "      <td>-73.94399</td>\n",
              "      <td>Entire home/apt</td>\n",
              "      <td>80.0</td>\n",
              "      <td>10.0</td>\n",
              "      <td>9</td>\n",
              "      <td>11/19/2018</td>\n",
              "      <td>0.10</td>\n",
              "      <td>1</td>\n",
              "      <td>0</td>\n",
              "    </tr>\n",
              "    <tr>\n",
              "      <th>5</th>\n",
              "      <td>5099</td>\n",
              "      <td>Large Cozy 1 BR Apartment In Midtown East</td>\n",
              "      <td>7322</td>\n",
              "      <td>Chris</td>\n",
              "      <td>Manhattan</td>\n",
              "      <td>Murray Hill</td>\n",
              "      <td>40.74767</td>\n",
              "      <td>-73.97500</td>\n",
              "      <td>Entire home/apt</td>\n",
              "      <td>200.0</td>\n",
              "      <td>3.0</td>\n",
              "      <td>74</td>\n",
              "      <td>6/22/2019</td>\n",
              "      <td>0.59</td>\n",
              "      <td>1</td>\n",
              "      <td>129</td>\n",
              "    </tr>\n",
              "    <tr>\n",
              "      <th>6</th>\n",
              "      <td>5121</td>\n",
              "      <td>BlissArtsSpace!</td>\n",
              "      <td>7356</td>\n",
              "      <td>Garon</td>\n",
              "      <td>Brooklyn</td>\n",
              "      <td>Bedford-Stuyvesant</td>\n",
              "      <td>40.68688</td>\n",
              "      <td>-73.95596</td>\n",
              "      <td>Private room</td>\n",
              "      <td>60.0</td>\n",
              "      <td>45.0</td>\n",
              "      <td>49</td>\n",
              "      <td>10/5/2017</td>\n",
              "      <td>0.40</td>\n",
              "      <td>1</td>\n",
              "      <td>0</td>\n",
              "    </tr>\n",
              "    <tr>\n",
              "      <th>7</th>\n",
              "      <td>5178</td>\n",
              "      <td>Large Furnished Room Near B'way</td>\n",
              "      <td>8967</td>\n",
              "      <td>Shunichi</td>\n",
              "      <td>Manhattan</td>\n",
              "      <td>Hell's Kitchen</td>\n",
              "      <td>40.76489</td>\n",
              "      <td>-73.98493</td>\n",
              "      <td>Private room</td>\n",
              "      <td>79.0</td>\n",
              "      <td>2.0</td>\n",
              "      <td>430</td>\n",
              "      <td>6/24/2019</td>\n",
              "      <td>3.47</td>\n",
              "      <td>1</td>\n",
              "      <td>220</td>\n",
              "    </tr>\n",
              "    <tr>\n",
              "      <th>8</th>\n",
              "      <td>5203</td>\n",
              "      <td>Cozy Clean Guest Room - Family Apt</td>\n",
              "      <td>7490</td>\n",
              "      <td>MaryEllen</td>\n",
              "      <td>Manhattan</td>\n",
              "      <td>Upper West Side</td>\n",
              "      <td>40.80178</td>\n",
              "      <td>-73.96723</td>\n",
              "      <td>Private room</td>\n",
              "      <td>79.0</td>\n",
              "      <td>2.0</td>\n",
              "      <td>118</td>\n",
              "      <td>7/21/2017</td>\n",
              "      <td>0.99</td>\n",
              "      <td>1</td>\n",
              "      <td>0</td>\n",
              "    </tr>\n",
              "    <tr>\n",
              "      <th>9</th>\n",
              "      <td>5238</td>\n",
              "      <td>Cute &amp; Cozy Lower East Side 1 bdrm</td>\n",
              "      <td>7549</td>\n",
              "      <td>Ben</td>\n",
              "      <td>Manhattan</td>\n",
              "      <td>Chinatown</td>\n",
              "      <td>40.71344</td>\n",
              "      <td>-73.99037</td>\n",
              "      <td>Entire home/apt</td>\n",
              "      <td>150.0</td>\n",
              "      <td>1.0</td>\n",
              "      <td>160</td>\n",
              "      <td>6/9/2019</td>\n",
              "      <td>1.33</td>\n",
              "      <td>4</td>\n",
              "      <td>188</td>\n",
              "    </tr>\n",
              "    <tr>\n",
              "      <th>10</th>\n",
              "      <td>5295</td>\n",
              "      <td>Beautiful 1br on Upper West Side</td>\n",
              "      <td>7702</td>\n",
              "      <td>Lena</td>\n",
              "      <td>Manhattan</td>\n",
              "      <td>Upper West Side</td>\n",
              "      <td>40.80316</td>\n",
              "      <td>-73.96545</td>\n",
              "      <td>Entire home/apt</td>\n",
              "      <td>135.0</td>\n",
              "      <td>5.0</td>\n",
              "      <td>53</td>\n",
              "      <td>6/22/2019</td>\n",
              "      <td>0.43</td>\n",
              "      <td>1</td>\n",
              "      <td>6</td>\n",
              "    </tr>\n",
              "    <tr>\n",
              "      <th>11</th>\n",
              "      <td>2595</td>\n",
              "      <td>Skylit Midtown Castle</td>\n",
              "      <td>2845</td>\n",
              "      <td>Jennifer</td>\n",
              "      <td>Manhattan</td>\n",
              "      <td>Midtown</td>\n",
              "      <td>40.75362</td>\n",
              "      <td>-73.98377</td>\n",
              "      <td>Entire home/apt</td>\n",
              "      <td>225.0</td>\n",
              "      <td>1.0</td>\n",
              "      <td>45</td>\n",
              "      <td>5/21/2019</td>\n",
              "      <td>0.38</td>\n",
              "      <td>2</td>\n",
              "      <td>355</td>\n",
              "    </tr>\n",
              "    <tr>\n",
              "      <th>12</th>\n",
              "      <td>5121</td>\n",
              "      <td>BlissArtsSpace!</td>\n",
              "      <td>7356</td>\n",
              "      <td>Garon</td>\n",
              "      <td>Brooklyn</td>\n",
              "      <td>Bedford-Stuyvesant</td>\n",
              "      <td>40.68688</td>\n",
              "      <td>-73.95596</td>\n",
              "      <td>Private room</td>\n",
              "      <td>60.0</td>\n",
              "      <td>45.0</td>\n",
              "      <td>49</td>\n",
              "      <td>10/5/2017</td>\n",
              "      <td>0.40</td>\n",
              "      <td>1</td>\n",
              "      <td>0</td>\n",
              "    </tr>\n",
              "    <tr>\n",
              "      <th>13</th>\n",
              "      <td>5295</td>\n",
              "      <td>Beautiful 1br on Upper West Side</td>\n",
              "      <td>7702</td>\n",
              "      <td>Lena</td>\n",
              "      <td>Manhattan</td>\n",
              "      <td>Upper West Side</td>\n",
              "      <td>40.80316</td>\n",
              "      <td>-73.96545</td>\n",
              "      <td>Entire home/apt</td>\n",
              "      <td>135.0</td>\n",
              "      <td>5.0</td>\n",
              "      <td>53</td>\n",
              "      <td>6/22/2019</td>\n",
              "      <td>0.43</td>\n",
              "      <td>1</td>\n",
              "      <td>6</td>\n",
              "    </tr>\n",
              "    <tr>\n",
              "      <th>14</th>\n",
              "      <td>6090</td>\n",
              "      <td>West Village Nest - Superhost</td>\n",
              "      <td>11975</td>\n",
              "      <td>Alina</td>\n",
              "      <td>Manhattan</td>\n",
              "      <td>West Village</td>\n",
              "      <td>40.73530</td>\n",
              "      <td>-74.00525</td>\n",
              "      <td>Entire home/apt</td>\n",
              "      <td>120.0</td>\n",
              "      <td>90.0</td>\n",
              "      <td>27</td>\n",
              "      <td>10/31/2018</td>\n",
              "      <td>0.22</td>\n",
              "      <td>1</td>\n",
              "      <td>0</td>\n",
              "    </tr>\n",
              "    <tr>\n",
              "      <th>15</th>\n",
              "      <td>7097</td>\n",
              "      <td>Perfect for Your Parents + Garden</td>\n",
              "      <td>17571</td>\n",
              "      <td>Jane</td>\n",
              "      <td>Brooklyn</td>\n",
              "      <td>Fort Greene</td>\n",
              "      <td>40.69169</td>\n",
              "      <td>-73.97185</td>\n",
              "      <td>Entire home/apt</td>\n",
              "      <td>215.0</td>\n",
              "      <td>2.0</td>\n",
              "      <td>198</td>\n",
              "      <td>6/28/2019</td>\n",
              "      <td>1.72</td>\n",
              "      <td>1</td>\n",
              "      <td>321</td>\n",
              "    </tr>\n",
              "    <tr>\n",
              "      <th>16</th>\n",
              "      <td>5441</td>\n",
              "      <td>Central Manhattan/near Broadway</td>\n",
              "      <td>7989</td>\n",
              "      <td>Kate</td>\n",
              "      <td>Manhattan</td>\n",
              "      <td>Hell's Kitchen</td>\n",
              "      <td>40.76076</td>\n",
              "      <td>-73.98867</td>\n",
              "      <td>Private room</td>\n",
              "      <td>85.0</td>\n",
              "      <td>2.0</td>\n",
              "      <td>188</td>\n",
              "      <td>6/23/2019</td>\n",
              "      <td>1.50</td>\n",
              "      <td>1</td>\n",
              "      <td>39</td>\n",
              "    </tr>\n",
              "    <tr>\n",
              "      <th>17</th>\n",
              "      <td>5803</td>\n",
              "      <td>Lovely Room 1, Garden, Best Area, Legal rental</td>\n",
              "      <td>9744</td>\n",
              "      <td>Laurie</td>\n",
              "      <td>Brooklyn</td>\n",
              "      <td>South Slope</td>\n",
              "      <td>40.66829</td>\n",
              "      <td>-73.98779</td>\n",
              "      <td>Private room</td>\n",
              "      <td>89.0</td>\n",
              "      <td>4.0</td>\n",
              "      <td>167</td>\n",
              "      <td>6/24/2019</td>\n",
              "      <td>1.34</td>\n",
              "      <td>3</td>\n",
              "      <td>314</td>\n",
              "    </tr>\n",
              "    <tr>\n",
              "      <th>18</th>\n",
              "      <td>6021</td>\n",
              "      <td>Wonderful Guest Bedroom in Manhattan for SINGLES</td>\n",
              "      <td>11528</td>\n",
              "      <td>Claudio</td>\n",
              "      <td>Manhattan</td>\n",
              "      <td>Upper West Side</td>\n",
              "      <td>40.79826</td>\n",
              "      <td>-73.96113</td>\n",
              "      <td>Private room</td>\n",
              "      <td>85.0</td>\n",
              "      <td>2.0</td>\n",
              "      <td>113</td>\n",
              "      <td>7/5/2019</td>\n",
              "      <td>0.91</td>\n",
              "      <td>1</td>\n",
              "      <td>333</td>\n",
              "    </tr>\n",
              "    <tr>\n",
              "      <th>19</th>\n",
              "      <td>6090</td>\n",
              "      <td>West Village Nest - Superhost</td>\n",
              "      <td>11975</td>\n",
              "      <td>Alina</td>\n",
              "      <td>Manhattan</td>\n",
              "      <td>West Village</td>\n",
              "      <td>40.73530</td>\n",
              "      <td>-74.00525</td>\n",
              "      <td>Entire home/apt</td>\n",
              "      <td>120.0</td>\n",
              "      <td>90.0</td>\n",
              "      <td>27</td>\n",
              "      <td>10/31/2018</td>\n",
              "      <td>0.22</td>\n",
              "      <td>1</td>\n",
              "      <td>0</td>\n",
              "    </tr>\n",
              "  </tbody>\n",
              "</table>\n",
              "</div>\n",
              "    <div class=\"colab-df-buttons\">\n",
              "\n",
              "  <div class=\"colab-df-container\">\n",
              "    <button class=\"colab-df-convert\" onclick=\"convertToInteractive('df-2b952e18-31fd-4e8d-b85e-a598d64b1fd0')\"\n",
              "            title=\"Convert this dataframe to an interactive table.\"\n",
              "            style=\"display:none;\">\n",
              "\n",
              "  <svg xmlns=\"http://www.w3.org/2000/svg\" height=\"24px\" viewBox=\"0 -960 960 960\">\n",
              "    <path d=\"M120-120v-720h720v720H120Zm60-500h600v-160H180v160Zm220 220h160v-160H400v160Zm0 220h160v-160H400v160ZM180-400h160v-160H180v160Zm440 0h160v-160H620v160ZM180-180h160v-160H180v160Zm440 0h160v-160H620v160Z\"/>\n",
              "  </svg>\n",
              "    </button>\n",
              "\n",
              "  <style>\n",
              "    .colab-df-container {\n",
              "      display:flex;\n",
              "      gap: 12px;\n",
              "    }\n",
              "\n",
              "    .colab-df-convert {\n",
              "      background-color: #E8F0FE;\n",
              "      border: none;\n",
              "      border-radius: 50%;\n",
              "      cursor: pointer;\n",
              "      display: none;\n",
              "      fill: #1967D2;\n",
              "      height: 32px;\n",
              "      padding: 0 0 0 0;\n",
              "      width: 32px;\n",
              "    }\n",
              "\n",
              "    .colab-df-convert:hover {\n",
              "      background-color: #E2EBFA;\n",
              "      box-shadow: 0px 1px 2px rgba(60, 64, 67, 0.3), 0px 1px 3px 1px rgba(60, 64, 67, 0.15);\n",
              "      fill: #174EA6;\n",
              "    }\n",
              "\n",
              "    .colab-df-buttons div {\n",
              "      margin-bottom: 4px;\n",
              "    }\n",
              "\n",
              "    [theme=dark] .colab-df-convert {\n",
              "      background-color: #3B4455;\n",
              "      fill: #D2E3FC;\n",
              "    }\n",
              "\n",
              "    [theme=dark] .colab-df-convert:hover {\n",
              "      background-color: #434B5C;\n",
              "      box-shadow: 0px 1px 3px 1px rgba(0, 0, 0, 0.15);\n",
              "      filter: drop-shadow(0px 1px 2px rgba(0, 0, 0, 0.3));\n",
              "      fill: #FFFFFF;\n",
              "    }\n",
              "  </style>\n",
              "\n",
              "    <script>\n",
              "      const buttonEl =\n",
              "        document.querySelector('#df-2b952e18-31fd-4e8d-b85e-a598d64b1fd0 button.colab-df-convert');\n",
              "      buttonEl.style.display =\n",
              "        google.colab.kernel.accessAllowed ? 'block' : 'none';\n",
              "\n",
              "      async function convertToInteractive(key) {\n",
              "        const element = document.querySelector('#df-2b952e18-31fd-4e8d-b85e-a598d64b1fd0');\n",
              "        const dataTable =\n",
              "          await google.colab.kernel.invokeFunction('convertToInteractive',\n",
              "                                                    [key], {});\n",
              "        if (!dataTable) return;\n",
              "\n",
              "        const docLinkHtml = 'Like what you see? Visit the ' +\n",
              "          '<a target=\"_blank\" href=https://colab.research.google.com/notebooks/data_table.ipynb>data table notebook</a>'\n",
              "          + ' to learn more about interactive tables.';\n",
              "        element.innerHTML = '';\n",
              "        dataTable['output_type'] = 'display_data';\n",
              "        await google.colab.output.renderOutput(dataTable, element);\n",
              "        const docLink = document.createElement('div');\n",
              "        docLink.innerHTML = docLinkHtml;\n",
              "        element.appendChild(docLink);\n",
              "      }\n",
              "    </script>\n",
              "  </div>\n",
              "\n",
              "\n",
              "<div id=\"df-ec9a5628-bbf7-4768-86bc-8daeaf0bdb35\">\n",
              "  <button class=\"colab-df-quickchart\" onclick=\"quickchart('df-ec9a5628-bbf7-4768-86bc-8daeaf0bdb35')\"\n",
              "            title=\"Suggest charts\"\n",
              "            style=\"display:none;\">\n",
              "\n",
              "<svg xmlns=\"http://www.w3.org/2000/svg\" height=\"24px\"viewBox=\"0 0 24 24\"\n",
              "     width=\"24px\">\n",
              "    <g>\n",
              "        <path d=\"M19 3H5c-1.1 0-2 .9-2 2v14c0 1.1.9 2 2 2h14c1.1 0 2-.9 2-2V5c0-1.1-.9-2-2-2zM9 17H7v-7h2v7zm4 0h-2V7h2v10zm4 0h-2v-4h2v4z\"/>\n",
              "    </g>\n",
              "</svg>\n",
              "  </button>\n",
              "\n",
              "<style>\n",
              "  .colab-df-quickchart {\n",
              "      --bg-color: #E8F0FE;\n",
              "      --fill-color: #1967D2;\n",
              "      --hover-bg-color: #E2EBFA;\n",
              "      --hover-fill-color: #174EA6;\n",
              "      --disabled-fill-color: #AAA;\n",
              "      --disabled-bg-color: #DDD;\n",
              "  }\n",
              "\n",
              "  [theme=dark] .colab-df-quickchart {\n",
              "      --bg-color: #3B4455;\n",
              "      --fill-color: #D2E3FC;\n",
              "      --hover-bg-color: #434B5C;\n",
              "      --hover-fill-color: #FFFFFF;\n",
              "      --disabled-bg-color: #3B4455;\n",
              "      --disabled-fill-color: #666;\n",
              "  }\n",
              "\n",
              "  .colab-df-quickchart {\n",
              "    background-color: var(--bg-color);\n",
              "    border: none;\n",
              "    border-radius: 50%;\n",
              "    cursor: pointer;\n",
              "    display: none;\n",
              "    fill: var(--fill-color);\n",
              "    height: 32px;\n",
              "    padding: 0;\n",
              "    width: 32px;\n",
              "  }\n",
              "\n",
              "  .colab-df-quickchart:hover {\n",
              "    background-color: var(--hover-bg-color);\n",
              "    box-shadow: 0 1px 2px rgba(60, 64, 67, 0.3), 0 1px 3px 1px rgba(60, 64, 67, 0.15);\n",
              "    fill: var(--button-hover-fill-color);\n",
              "  }\n",
              "\n",
              "  .colab-df-quickchart-complete:disabled,\n",
              "  .colab-df-quickchart-complete:disabled:hover {\n",
              "    background-color: var(--disabled-bg-color);\n",
              "    fill: var(--disabled-fill-color);\n",
              "    box-shadow: none;\n",
              "  }\n",
              "\n",
              "  .colab-df-spinner {\n",
              "    border: 2px solid var(--fill-color);\n",
              "    border-color: transparent;\n",
              "    border-bottom-color: var(--fill-color);\n",
              "    animation:\n",
              "      spin 1s steps(1) infinite;\n",
              "  }\n",
              "\n",
              "  @keyframes spin {\n",
              "    0% {\n",
              "      border-color: transparent;\n",
              "      border-bottom-color: var(--fill-color);\n",
              "      border-left-color: var(--fill-color);\n",
              "    }\n",
              "    20% {\n",
              "      border-color: transparent;\n",
              "      border-left-color: var(--fill-color);\n",
              "      border-top-color: var(--fill-color);\n",
              "    }\n",
              "    30% {\n",
              "      border-color: transparent;\n",
              "      border-left-color: var(--fill-color);\n",
              "      border-top-color: var(--fill-color);\n",
              "      border-right-color: var(--fill-color);\n",
              "    }\n",
              "    40% {\n",
              "      border-color: transparent;\n",
              "      border-right-color: var(--fill-color);\n",
              "      border-top-color: var(--fill-color);\n",
              "    }\n",
              "    60% {\n",
              "      border-color: transparent;\n",
              "      border-right-color: var(--fill-color);\n",
              "    }\n",
              "    80% {\n",
              "      border-color: transparent;\n",
              "      border-right-color: var(--fill-color);\n",
              "      border-bottom-color: var(--fill-color);\n",
              "    }\n",
              "    90% {\n",
              "      border-color: transparent;\n",
              "      border-bottom-color: var(--fill-color);\n",
              "    }\n",
              "  }\n",
              "</style>\n",
              "\n",
              "  <script>\n",
              "    async function quickchart(key) {\n",
              "      const quickchartButtonEl =\n",
              "        document.querySelector('#' + key + ' button');\n",
              "      quickchartButtonEl.disabled = true;  // To prevent multiple clicks.\n",
              "      quickchartButtonEl.classList.add('colab-df-spinner');\n",
              "      try {\n",
              "        const charts = await google.colab.kernel.invokeFunction(\n",
              "            'suggestCharts', [key], {});\n",
              "      } catch (error) {\n",
              "        console.error('Error during call to suggestCharts:', error);\n",
              "      }\n",
              "      quickchartButtonEl.classList.remove('colab-df-spinner');\n",
              "      quickchartButtonEl.classList.add('colab-df-quickchart-complete');\n",
              "    }\n",
              "    (() => {\n",
              "      let quickchartButtonEl =\n",
              "        document.querySelector('#df-ec9a5628-bbf7-4768-86bc-8daeaf0bdb35 button');\n",
              "      quickchartButtonEl.style.display =\n",
              "        google.colab.kernel.accessAllowed ? 'block' : 'none';\n",
              "    })();\n",
              "  </script>\n",
              "</div>\n",
              "\n",
              "    </div>\n",
              "  </div>\n"
            ],
            "application/vnd.google.colaboratory.intrinsic+json": {
              "type": "dataframe",
              "variable_name": "df",
              "summary": "{\n  \"name\": \"df\",\n  \"rows\": 48900,\n  \"fields\": [\n    {\n      \"column\": \"id\",\n      \"properties\": {\n        \"dtype\": \"number\",\n        \"std\": 10984229,\n        \"min\": 2539,\n        \"max\": 36487245,\n        \"num_unique_values\": 48895,\n        \"samples\": [\n          317905,\n          34205267,\n          12342297\n        ],\n        \"semantic_type\": \"\",\n        \"description\": \"\"\n      }\n    },\n    {\n      \"column\": \"name\",\n      \"properties\": {\n        \"dtype\": \"string\",\n        \"num_unique_values\": 47883,\n        \"samples\": [\n          \"Large Open Brooklyn Loft\",\n          \"Compact Comfy Cute Private room in Brooklyn Ctown\",\n          \"Huge Brooklyn Backyard Studio w/ King size bed\"\n        ],\n        \"semantic_type\": \"\",\n        \"description\": \"\"\n      }\n    },\n    {\n      \"column\": \"host_id\",\n      \"properties\": {\n        \"dtype\": \"number\",\n        \"std\": 78609920,\n        \"min\": 2438,\n        \"max\": 274321313,\n        \"num_unique_values\": 37457,\n        \"samples\": [\n          1504257,\n          5592151,\n          208938947\n        ],\n        \"semantic_type\": \"\",\n        \"description\": \"\"\n      }\n    },\n    {\n      \"column\": \"host_name\",\n      \"properties\": {\n        \"dtype\": \"category\",\n        \"num_unique_values\": 11452,\n        \"samples\": [\n          \"Eki\",\n          \"Laine\",\n          \"Elen\"\n        ],\n        \"semantic_type\": \"\",\n        \"description\": \"\"\n      }\n    },\n    {\n      \"column\": \"neighbourhood group\",\n      \"properties\": {\n        \"dtype\": \"category\",\n        \"num_unique_values\": 6,\n        \"samples\": [\n          \"Brooklyn\",\n          \"Manhattan\",\n          \"Bronx\"\n        ],\n        \"semantic_type\": \"\",\n        \"description\": \"\"\n      }\n    },\n    {\n      \"column\": \"neighbourhood\",\n      \"properties\": {\n        \"dtype\": \"category\",\n        \"num_unique_values\": 221,\n        \"samples\": [\n          \"Stuyvesant Town\",\n          \"Eltingville\",\n          \"Stapleton\"\n        ],\n        \"semantic_type\": \"\",\n        \"description\": \"\"\n      }\n    },\n    {\n      \"column\": \"latitude\",\n      \"properties\": {\n        \"dtype\": \"number\",\n        \"std\": 0.0545290367151555,\n        \"min\": 40.49979,\n        \"max\": 40.91306,\n        \"num_unique_values\": 19048,\n        \"samples\": [\n          40.75913,\n          40.68314,\n          40.72126\n        ],\n        \"semantic_type\": \"\",\n        \"description\": \"\"\n      }\n    },\n    {\n      \"column\": \"longitude\",\n      \"properties\": {\n        \"dtype\": \"number\",\n        \"std\": 0.04615534966385263,\n        \"min\": -74.24442,\n        \"max\": -73.71299,\n        \"num_unique_values\": 14718,\n        \"samples\": [\n          -73.88892,\n          -73.87851,\n          -73.97175\n        ],\n        \"semantic_type\": \"\",\n        \"description\": \"\"\n      }\n    },\n    {\n      \"column\": \"room type\",\n      \"properties\": {\n        \"dtype\": \"category\",\n        \"num_unique_values\": 3,\n        \"samples\": [\n          \"Private room\",\n          \"Entire home/apt\",\n          \"Shared room\"\n        ],\n        \"semantic_type\": \"\",\n        \"description\": \"\"\n      }\n    },\n    {\n      \"column\": \"price\",\n      \"properties\": {\n        \"dtype\": \"number\",\n        \"std\": 240.14269848796064,\n        \"min\": 0.0,\n        \"max\": 10000.0,\n        \"num_unique_values\": 676,\n        \"samples\": [\n          327.0,\n          379.0,\n          244.0\n        ],\n        \"semantic_type\": \"\",\n        \"description\": \"\"\n      }\n    },\n    {\n      \"column\": \"minimum nights\",\n      \"properties\": {\n        \"dtype\": \"number\",\n        \"std\": 20.513748648633097,\n        \"min\": 1.0,\n        \"max\": 1250.0,\n        \"num_unique_values\": 111,\n        \"samples\": [\n          53.0,\n          60.98,\n          2.0\n        ],\n        \"semantic_type\": \"\",\n        \"description\": \"\"\n      }\n    },\n    {\n      \"column\": \"number_of_reviews\",\n      \"properties\": {\n        \"dtype\": \"number\",\n        \"std\": 44,\n        \"min\": 0,\n        \"max\": 629,\n        \"num_unique_values\": 394,\n        \"samples\": [\n          12,\n          144,\n          314\n        ],\n        \"semantic_type\": \"\",\n        \"description\": \"\"\n      }\n    },\n    {\n      \"column\": \"last review\",\n      \"properties\": {\n        \"dtype\": \"object\",\n        \"num_unique_values\": 1764,\n        \"samples\": [\n          \"7/26/2016\",\n          \"5/21/2018\",\n          \"2/27/2019\"\n        ],\n        \"semantic_type\": \"\",\n        \"description\": \"\"\n      }\n    },\n    {\n      \"column\": \"reviews_per_month\",\n      \"properties\": {\n        \"dtype\": \"number\",\n        \"std\": 1.680366577896881,\n        \"min\": 0.01,\n        \"max\": 58.5,\n        \"num_unique_values\": 937,\n        \"samples\": [\n          1.7,\n          0.28,\n          2.14\n        ],\n        \"semantic_type\": \"\",\n        \"description\": \"\"\n      }\n    },\n    {\n      \"column\": \"calculated_host_listings_count\",\n      \"properties\": {\n        \"dtype\": \"number\",\n        \"std\": 32,\n        \"min\": 1,\n        \"max\": 327,\n        \"num_unique_values\": 47,\n        \"samples\": [\n          37,\n          17,\n          121\n        ],\n        \"semantic_type\": \"\",\n        \"description\": \"\"\n      }\n    },\n    {\n      \"column\": \"availability_365\",\n      \"properties\": {\n        \"dtype\": \"number\",\n        \"std\": 131,\n        \"min\": 0,\n        \"max\": 365,\n        \"num_unique_values\": 366,\n        \"samples\": [\n          335,\n          309,\n          249\n        ],\n        \"semantic_type\": \"\",\n        \"description\": \"\"\n      }\n    }\n  ]\n}"
            }
          },
          "metadata": {},
          "execution_count": 69
        }
      ]
    },
    {
      "cell_type": "markdown",
      "source": [
        " Q.4) Find out the shape of dataset and what does it indicate?"
      ],
      "metadata": {
        "id": "ZNNvfLJ1pxzn"
      }
    },
    {
      "cell_type": "code",
      "source": [
        "shape = df.shape"
      ],
      "metadata": {
        "id": "0DPBLsoup1Mx"
      },
      "execution_count": 70,
      "outputs": []
    },
    {
      "cell_type": "code",
      "source": [
        "df.shape"
      ],
      "metadata": {
        "colab": {
          "base_uri": "https://localhost:8080/"
        },
        "id": "8Y54AdMfp57n",
        "outputId": "04696e3c-f41d-4962-9598-cff7e49b0097"
      },
      "execution_count": 71,
      "outputs": [
        {
          "output_type": "execute_result",
          "data": {
            "text/plain": [
              "(48900, 16)"
            ]
          },
          "metadata": {},
          "execution_count": 71
        }
      ]
    },
    {
      "cell_type": "markdown",
      "source": [
        "Q.5) List all column names and replace spaces in column labels with underscores “_” for consistency and ease of use\n",
        "df.columns = df.columns.str.replace(' ', '_')"
      ],
      "metadata": {
        "id": "ddk0EKIqqEn2"
      }
    },
    {
      "cell_type": "code",
      "source": [
        "df.columns = df.columns.str.replace(' ', '_')\n",
        "print(df.columns)"
      ],
      "metadata": {
        "colab": {
          "base_uri": "https://localhost:8080/"
        },
        "id": "PKMU1ViYqJn7",
        "outputId": "d44b0811-7b69-463c-954a-fac1d26d6ed3"
      },
      "execution_count": 72,
      "outputs": [
        {
          "output_type": "stream",
          "name": "stdout",
          "text": [
            "Index(['id', 'name', 'host_id', 'host_name', 'neighbourhood_group',\n",
            "       'neighbourhood', 'latitude', 'longitude', 'room_type', 'price',\n",
            "       'minimum_nights', 'number_of_reviews', 'last_review',\n",
            "       'reviews_per_month', 'calculated_host_listings_count',\n",
            "       'availability_365'],\n",
            "      dtype='object')\n"
          ]
        }
      ]
    },
    {
      "cell_type": "markdown",
      "source": [
        " Q.6) Check the data types of each attribute to understand what type of data each column holds"
      ],
      "metadata": {
        "id": "6iHvP8WKqfz3"
      }
    },
    {
      "cell_type": "code",
      "source": [
        "df.dtypes"
      ],
      "metadata": {
        "colab": {
          "base_uri": "https://localhost:8080/"
        },
        "id": "Mw112ZExqjZA",
        "outputId": "bedf11be-45ae-47c8-c7e8-9d9112c2293a"
      },
      "execution_count": 73,
      "outputs": [
        {
          "output_type": "execute_result",
          "data": {
            "text/plain": [
              "id                                  int64\n",
              "name                               object\n",
              "host_id                             int64\n",
              "host_name                          object\n",
              "neighbourhood_group                object\n",
              "neighbourhood                      object\n",
              "latitude                          float64\n",
              "longitude                         float64\n",
              "room_type                          object\n",
              "price                             float64\n",
              "minimum_nights                    float64\n",
              "number_of_reviews                   int64\n",
              "last_review                        object\n",
              "reviews_per_month                 float64\n",
              "calculated_host_listings_count      int64\n",
              "availability_365                    int64\n",
              "dtype: object"
            ]
          },
          "metadata": {},
          "execution_count": 73
        }
      ]
    },
    {
      "cell_type": "markdown",
      "source": [
        "Q.7) Convert the minimum_night and price columns from float to integer types after removing any non-numeric characters (e.g., currency symbols). Convert last_review to a datetime type."
      ],
      "metadata": {
        "id": "EjVUve58qplY"
      }
    },
    {
      "cell_type": "code",
      "source": [
        "df['minimum_nights'] = df['minimum_nights'].astype(int)\n",
        "df['price'] = df['price'].replace('[\\$,]', '', regex=True).astype(int)\n",
        "df['last_review'] = pd.to_datetime(df['last_review'])"
      ],
      "metadata": {
        "id": "pE9dkTt9qtOM"
      },
      "execution_count": 74,
      "outputs": []
    },
    {
      "cell_type": "markdown",
      "source": [
        "Q.8) Share the information of dataset. What is the importance of it in EDA?"
      ],
      "metadata": {
        "id": "4M8e3lcIrNYr"
      }
    },
    {
      "cell_type": "code",
      "source": [
        "df.info()"
      ],
      "metadata": {
        "colab": {
          "base_uri": "https://localhost:8080/"
        },
        "id": "84_0c02orQBR",
        "outputId": "df1b6e32-a566-45be-f571-3aa388a6c809"
      },
      "execution_count": 75,
      "outputs": [
        {
          "output_type": "stream",
          "name": "stdout",
          "text": [
            "<class 'pandas.core.frame.DataFrame'>\n",
            "RangeIndex: 48900 entries, 0 to 48899\n",
            "Data columns (total 16 columns):\n",
            " #   Column                          Non-Null Count  Dtype         \n",
            "---  ------                          --------------  -----         \n",
            " 0   id                              48900 non-null  int64         \n",
            " 1   name                            48884 non-null  object        \n",
            " 2   host_id                         48900 non-null  int64         \n",
            " 3   host_name                       48879 non-null  object        \n",
            " 4   neighbourhood_group             48900 non-null  object        \n",
            " 5   neighbourhood                   48900 non-null  object        \n",
            " 6   latitude                        48900 non-null  float64       \n",
            " 7   longitude                       48900 non-null  float64       \n",
            " 8   room_type                       48900 non-null  object        \n",
            " 9   price                           48900 non-null  int64         \n",
            " 10  minimum_nights                  48900 non-null  int64         \n",
            " 11  number_of_reviews               48900 non-null  int64         \n",
            " 12  last_review                     38848 non-null  datetime64[ns]\n",
            " 13  reviews_per_month               38848 non-null  float64       \n",
            " 14  calculated_host_listings_count  48900 non-null  int64         \n",
            " 15  availability_365                48900 non-null  int64         \n",
            "dtypes: datetime64[ns](1), float64(3), int64(7), object(5)\n",
            "memory usage: 6.0+ MB\n"
          ]
        }
      ]
    },
    {
      "cell_type": "markdown",
      "source": [
        "Q.9) Provide summary statistics for numerical columns. Highlight any unusual calculation you find (If any)"
      ],
      "metadata": {
        "id": "NMP1PT5HrVno"
      }
    },
    {
      "cell_type": "code",
      "source": [
        "df.describe()"
      ],
      "metadata": {
        "colab": {
          "base_uri": "https://localhost:8080/",
          "height": 424
        },
        "id": "rJ_CyQa9raWt",
        "outputId": "ad9ef9fe-8f52-4168-8dd4-89e3d4ea863d"
      },
      "execution_count": 76,
      "outputs": [
        {
          "output_type": "execute_result",
          "data": {
            "text/plain": [
              "                 id       host_id      latitude     longitude         price  \\\n",
              "count  4.890000e+04  4.890000e+04  48900.000000  48900.000000  48900.000000   \n",
              "mean   1.901520e+07  6.761310e+07     40.728949    -73.952172    152.720511   \n",
              "min    2.539000e+03  2.438000e+03     40.499790    -74.244420      0.000000   \n",
              "25%    9.470353e+06  7.812758e+06     40.690100    -73.983072     69.000000   \n",
              "50%    1.967620e+07  3.079058e+07     40.723075    -73.955680    106.000000   \n",
              "75%    2.915173e+07  1.074344e+08     40.763112    -73.936280    175.000000   \n",
              "max    3.648724e+07  2.743213e+08     40.913060    -73.712990  10000.000000   \n",
              "std    1.098423e+07  7.860992e+07      0.054529      0.046155    240.142704   \n",
              "\n",
              "       minimum_nights  number_of_reviews                    last_review  \\\n",
              "count    48900.000000       48900.000000                          38848   \n",
              "mean         7.032168          23.279693  2018-10-04 02:02:57.182866432   \n",
              "min          1.000000           0.000000            2011-03-28 00:00:00   \n",
              "25%          1.000000           1.000000            2018-07-08 00:00:00   \n",
              "50%          3.000000           5.000000            2019-05-19 00:00:00   \n",
              "75%          5.000000          24.000000            2019-06-23 00:00:00   \n",
              "max       1250.000000         629.000000            2019-07-08 00:00:00   \n",
              "std         20.513684          44.555777                            NaN   \n",
              "\n",
              "       reviews_per_month  calculated_host_listings_count  availability_365  \n",
              "count       38848.000000                    48900.000000      48900.000000  \n",
              "mean            1.373126                        7.143374        112.783742  \n",
              "min             0.010000                        1.000000          0.000000  \n",
              "25%             0.190000                        1.000000          0.000000  \n",
              "50%             0.720000                        1.000000         45.000000  \n",
              "75%             2.020000                        2.000000        227.000000  \n",
              "max            58.500000                      327.000000        365.000000  \n",
              "std             1.680367                       32.950889        131.626347  "
            ],
            "text/html": [
              "\n",
              "  <div id=\"df-4d5a1228-ab93-4fa6-a544-1004f0c7c03c\" class=\"colab-df-container\">\n",
              "    <div>\n",
              "<style scoped>\n",
              "    .dataframe tbody tr th:only-of-type {\n",
              "        vertical-align: middle;\n",
              "    }\n",
              "\n",
              "    .dataframe tbody tr th {\n",
              "        vertical-align: top;\n",
              "    }\n",
              "\n",
              "    .dataframe thead th {\n",
              "        text-align: right;\n",
              "    }\n",
              "</style>\n",
              "<table border=\"1\" class=\"dataframe\">\n",
              "  <thead>\n",
              "    <tr style=\"text-align: right;\">\n",
              "      <th></th>\n",
              "      <th>id</th>\n",
              "      <th>host_id</th>\n",
              "      <th>latitude</th>\n",
              "      <th>longitude</th>\n",
              "      <th>price</th>\n",
              "      <th>minimum_nights</th>\n",
              "      <th>number_of_reviews</th>\n",
              "      <th>last_review</th>\n",
              "      <th>reviews_per_month</th>\n",
              "      <th>calculated_host_listings_count</th>\n",
              "      <th>availability_365</th>\n",
              "    </tr>\n",
              "  </thead>\n",
              "  <tbody>\n",
              "    <tr>\n",
              "      <th>count</th>\n",
              "      <td>4.890000e+04</td>\n",
              "      <td>4.890000e+04</td>\n",
              "      <td>48900.000000</td>\n",
              "      <td>48900.000000</td>\n",
              "      <td>48900.000000</td>\n",
              "      <td>48900.000000</td>\n",
              "      <td>48900.000000</td>\n",
              "      <td>38848</td>\n",
              "      <td>38848.000000</td>\n",
              "      <td>48900.000000</td>\n",
              "      <td>48900.000000</td>\n",
              "    </tr>\n",
              "    <tr>\n",
              "      <th>mean</th>\n",
              "      <td>1.901520e+07</td>\n",
              "      <td>6.761310e+07</td>\n",
              "      <td>40.728949</td>\n",
              "      <td>-73.952172</td>\n",
              "      <td>152.720511</td>\n",
              "      <td>7.032168</td>\n",
              "      <td>23.279693</td>\n",
              "      <td>2018-10-04 02:02:57.182866432</td>\n",
              "      <td>1.373126</td>\n",
              "      <td>7.143374</td>\n",
              "      <td>112.783742</td>\n",
              "    </tr>\n",
              "    <tr>\n",
              "      <th>min</th>\n",
              "      <td>2.539000e+03</td>\n",
              "      <td>2.438000e+03</td>\n",
              "      <td>40.499790</td>\n",
              "      <td>-74.244420</td>\n",
              "      <td>0.000000</td>\n",
              "      <td>1.000000</td>\n",
              "      <td>0.000000</td>\n",
              "      <td>2011-03-28 00:00:00</td>\n",
              "      <td>0.010000</td>\n",
              "      <td>1.000000</td>\n",
              "      <td>0.000000</td>\n",
              "    </tr>\n",
              "    <tr>\n",
              "      <th>25%</th>\n",
              "      <td>9.470353e+06</td>\n",
              "      <td>7.812758e+06</td>\n",
              "      <td>40.690100</td>\n",
              "      <td>-73.983072</td>\n",
              "      <td>69.000000</td>\n",
              "      <td>1.000000</td>\n",
              "      <td>1.000000</td>\n",
              "      <td>2018-07-08 00:00:00</td>\n",
              "      <td>0.190000</td>\n",
              "      <td>1.000000</td>\n",
              "      <td>0.000000</td>\n",
              "    </tr>\n",
              "    <tr>\n",
              "      <th>50%</th>\n",
              "      <td>1.967620e+07</td>\n",
              "      <td>3.079058e+07</td>\n",
              "      <td>40.723075</td>\n",
              "      <td>-73.955680</td>\n",
              "      <td>106.000000</td>\n",
              "      <td>3.000000</td>\n",
              "      <td>5.000000</td>\n",
              "      <td>2019-05-19 00:00:00</td>\n",
              "      <td>0.720000</td>\n",
              "      <td>1.000000</td>\n",
              "      <td>45.000000</td>\n",
              "    </tr>\n",
              "    <tr>\n",
              "      <th>75%</th>\n",
              "      <td>2.915173e+07</td>\n",
              "      <td>1.074344e+08</td>\n",
              "      <td>40.763112</td>\n",
              "      <td>-73.936280</td>\n",
              "      <td>175.000000</td>\n",
              "      <td>5.000000</td>\n",
              "      <td>24.000000</td>\n",
              "      <td>2019-06-23 00:00:00</td>\n",
              "      <td>2.020000</td>\n",
              "      <td>2.000000</td>\n",
              "      <td>227.000000</td>\n",
              "    </tr>\n",
              "    <tr>\n",
              "      <th>max</th>\n",
              "      <td>3.648724e+07</td>\n",
              "      <td>2.743213e+08</td>\n",
              "      <td>40.913060</td>\n",
              "      <td>-73.712990</td>\n",
              "      <td>10000.000000</td>\n",
              "      <td>1250.000000</td>\n",
              "      <td>629.000000</td>\n",
              "      <td>2019-07-08 00:00:00</td>\n",
              "      <td>58.500000</td>\n",
              "      <td>327.000000</td>\n",
              "      <td>365.000000</td>\n",
              "    </tr>\n",
              "    <tr>\n",
              "      <th>std</th>\n",
              "      <td>1.098423e+07</td>\n",
              "      <td>7.860992e+07</td>\n",
              "      <td>0.054529</td>\n",
              "      <td>0.046155</td>\n",
              "      <td>240.142704</td>\n",
              "      <td>20.513684</td>\n",
              "      <td>44.555777</td>\n",
              "      <td>NaN</td>\n",
              "      <td>1.680367</td>\n",
              "      <td>32.950889</td>\n",
              "      <td>131.626347</td>\n",
              "    </tr>\n",
              "  </tbody>\n",
              "</table>\n",
              "</div>\n",
              "    <div class=\"colab-df-buttons\">\n",
              "\n",
              "  <div class=\"colab-df-container\">\n",
              "    <button class=\"colab-df-convert\" onclick=\"convertToInteractive('df-4d5a1228-ab93-4fa6-a544-1004f0c7c03c')\"\n",
              "            title=\"Convert this dataframe to an interactive table.\"\n",
              "            style=\"display:none;\">\n",
              "\n",
              "  <svg xmlns=\"http://www.w3.org/2000/svg\" height=\"24px\" viewBox=\"0 -960 960 960\">\n",
              "    <path d=\"M120-120v-720h720v720H120Zm60-500h600v-160H180v160Zm220 220h160v-160H400v160Zm0 220h160v-160H400v160ZM180-400h160v-160H180v160Zm440 0h160v-160H620v160ZM180-180h160v-160H180v160Zm440 0h160v-160H620v160Z\"/>\n",
              "  </svg>\n",
              "    </button>\n",
              "\n",
              "  <style>\n",
              "    .colab-df-container {\n",
              "      display:flex;\n",
              "      gap: 12px;\n",
              "    }\n",
              "\n",
              "    .colab-df-convert {\n",
              "      background-color: #E8F0FE;\n",
              "      border: none;\n",
              "      border-radius: 50%;\n",
              "      cursor: pointer;\n",
              "      display: none;\n",
              "      fill: #1967D2;\n",
              "      height: 32px;\n",
              "      padding: 0 0 0 0;\n",
              "      width: 32px;\n",
              "    }\n",
              "\n",
              "    .colab-df-convert:hover {\n",
              "      background-color: #E2EBFA;\n",
              "      box-shadow: 0px 1px 2px rgba(60, 64, 67, 0.3), 0px 1px 3px 1px rgba(60, 64, 67, 0.15);\n",
              "      fill: #174EA6;\n",
              "    }\n",
              "\n",
              "    .colab-df-buttons div {\n",
              "      margin-bottom: 4px;\n",
              "    }\n",
              "\n",
              "    [theme=dark] .colab-df-convert {\n",
              "      background-color: #3B4455;\n",
              "      fill: #D2E3FC;\n",
              "    }\n",
              "\n",
              "    [theme=dark] .colab-df-convert:hover {\n",
              "      background-color: #434B5C;\n",
              "      box-shadow: 0px 1px 3px 1px rgba(0, 0, 0, 0.15);\n",
              "      filter: drop-shadow(0px 1px 2px rgba(0, 0, 0, 0.3));\n",
              "      fill: #FFFFFF;\n",
              "    }\n",
              "  </style>\n",
              "\n",
              "    <script>\n",
              "      const buttonEl =\n",
              "        document.querySelector('#df-4d5a1228-ab93-4fa6-a544-1004f0c7c03c button.colab-df-convert');\n",
              "      buttonEl.style.display =\n",
              "        google.colab.kernel.accessAllowed ? 'block' : 'none';\n",
              "\n",
              "      async function convertToInteractive(key) {\n",
              "        const element = document.querySelector('#df-4d5a1228-ab93-4fa6-a544-1004f0c7c03c');\n",
              "        const dataTable =\n",
              "          await google.colab.kernel.invokeFunction('convertToInteractive',\n",
              "                                                    [key], {});\n",
              "        if (!dataTable) return;\n",
              "\n",
              "        const docLinkHtml = 'Like what you see? Visit the ' +\n",
              "          '<a target=\"_blank\" href=https://colab.research.google.com/notebooks/data_table.ipynb>data table notebook</a>'\n",
              "          + ' to learn more about interactive tables.';\n",
              "        element.innerHTML = '';\n",
              "        dataTable['output_type'] = 'display_data';\n",
              "        await google.colab.output.renderOutput(dataTable, element);\n",
              "        const docLink = document.createElement('div');\n",
              "        docLink.innerHTML = docLinkHtml;\n",
              "        element.appendChild(docLink);\n",
              "      }\n",
              "    </script>\n",
              "  </div>\n",
              "\n",
              "\n",
              "<div id=\"df-376cd07a-dce2-4c00-980e-2aeea1d4e1a0\">\n",
              "  <button class=\"colab-df-quickchart\" onclick=\"quickchart('df-376cd07a-dce2-4c00-980e-2aeea1d4e1a0')\"\n",
              "            title=\"Suggest charts\"\n",
              "            style=\"display:none;\">\n",
              "\n",
              "<svg xmlns=\"http://www.w3.org/2000/svg\" height=\"24px\"viewBox=\"0 0 24 24\"\n",
              "     width=\"24px\">\n",
              "    <g>\n",
              "        <path d=\"M19 3H5c-1.1 0-2 .9-2 2v14c0 1.1.9 2 2 2h14c1.1 0 2-.9 2-2V5c0-1.1-.9-2-2-2zM9 17H7v-7h2v7zm4 0h-2V7h2v10zm4 0h-2v-4h2v4z\"/>\n",
              "    </g>\n",
              "</svg>\n",
              "  </button>\n",
              "\n",
              "<style>\n",
              "  .colab-df-quickchart {\n",
              "      --bg-color: #E8F0FE;\n",
              "      --fill-color: #1967D2;\n",
              "      --hover-bg-color: #E2EBFA;\n",
              "      --hover-fill-color: #174EA6;\n",
              "      --disabled-fill-color: #AAA;\n",
              "      --disabled-bg-color: #DDD;\n",
              "  }\n",
              "\n",
              "  [theme=dark] .colab-df-quickchart {\n",
              "      --bg-color: #3B4455;\n",
              "      --fill-color: #D2E3FC;\n",
              "      --hover-bg-color: #434B5C;\n",
              "      --hover-fill-color: #FFFFFF;\n",
              "      --disabled-bg-color: #3B4455;\n",
              "      --disabled-fill-color: #666;\n",
              "  }\n",
              "\n",
              "  .colab-df-quickchart {\n",
              "    background-color: var(--bg-color);\n",
              "    border: none;\n",
              "    border-radius: 50%;\n",
              "    cursor: pointer;\n",
              "    display: none;\n",
              "    fill: var(--fill-color);\n",
              "    height: 32px;\n",
              "    padding: 0;\n",
              "    width: 32px;\n",
              "  }\n",
              "\n",
              "  .colab-df-quickchart:hover {\n",
              "    background-color: var(--hover-bg-color);\n",
              "    box-shadow: 0 1px 2px rgba(60, 64, 67, 0.3), 0 1px 3px 1px rgba(60, 64, 67, 0.15);\n",
              "    fill: var(--button-hover-fill-color);\n",
              "  }\n",
              "\n",
              "  .colab-df-quickchart-complete:disabled,\n",
              "  .colab-df-quickchart-complete:disabled:hover {\n",
              "    background-color: var(--disabled-bg-color);\n",
              "    fill: var(--disabled-fill-color);\n",
              "    box-shadow: none;\n",
              "  }\n",
              "\n",
              "  .colab-df-spinner {\n",
              "    border: 2px solid var(--fill-color);\n",
              "    border-color: transparent;\n",
              "    border-bottom-color: var(--fill-color);\n",
              "    animation:\n",
              "      spin 1s steps(1) infinite;\n",
              "  }\n",
              "\n",
              "  @keyframes spin {\n",
              "    0% {\n",
              "      border-color: transparent;\n",
              "      border-bottom-color: var(--fill-color);\n",
              "      border-left-color: var(--fill-color);\n",
              "    }\n",
              "    20% {\n",
              "      border-color: transparent;\n",
              "      border-left-color: var(--fill-color);\n",
              "      border-top-color: var(--fill-color);\n",
              "    }\n",
              "    30% {\n",
              "      border-color: transparent;\n",
              "      border-left-color: var(--fill-color);\n",
              "      border-top-color: var(--fill-color);\n",
              "      border-right-color: var(--fill-color);\n",
              "    }\n",
              "    40% {\n",
              "      border-color: transparent;\n",
              "      border-right-color: var(--fill-color);\n",
              "      border-top-color: var(--fill-color);\n",
              "    }\n",
              "    60% {\n",
              "      border-color: transparent;\n",
              "      border-right-color: var(--fill-color);\n",
              "    }\n",
              "    80% {\n",
              "      border-color: transparent;\n",
              "      border-right-color: var(--fill-color);\n",
              "      border-bottom-color: var(--fill-color);\n",
              "    }\n",
              "    90% {\n",
              "      border-color: transparent;\n",
              "      border-bottom-color: var(--fill-color);\n",
              "    }\n",
              "  }\n",
              "</style>\n",
              "\n",
              "  <script>\n",
              "    async function quickchart(key) {\n",
              "      const quickchartButtonEl =\n",
              "        document.querySelector('#' + key + ' button');\n",
              "      quickchartButtonEl.disabled = true;  // To prevent multiple clicks.\n",
              "      quickchartButtonEl.classList.add('colab-df-spinner');\n",
              "      try {\n",
              "        const charts = await google.colab.kernel.invokeFunction(\n",
              "            'suggestCharts', [key], {});\n",
              "      } catch (error) {\n",
              "        console.error('Error during call to suggestCharts:', error);\n",
              "      }\n",
              "      quickchartButtonEl.classList.remove('colab-df-spinner');\n",
              "      quickchartButtonEl.classList.add('colab-df-quickchart-complete');\n",
              "    }\n",
              "    (() => {\n",
              "      let quickchartButtonEl =\n",
              "        document.querySelector('#df-376cd07a-dce2-4c00-980e-2aeea1d4e1a0 button');\n",
              "      quickchartButtonEl.style.display =\n",
              "        google.colab.kernel.accessAllowed ? 'block' : 'none';\n",
              "    })();\n",
              "  </script>\n",
              "</div>\n",
              "\n",
              "    </div>\n",
              "  </div>\n"
            ],
            "application/vnd.google.colaboratory.intrinsic+json": {
              "type": "dataframe",
              "summary": "{\n  \"name\": \"df\",\n  \"rows\": 8,\n  \"fields\": [\n    {\n      \"column\": \"id\",\n      \"properties\": {\n        \"dtype\": \"number\",\n        \"std\": 13050455.410827944,\n        \"min\": 2539.0,\n        \"max\": 36487245.0,\n        \"num_unique_values\": 8,\n        \"samples\": [\n          19015199.278752558,\n          29151732.5,\n          48900.0\n        ],\n        \"semantic_type\": \"\",\n        \"description\": \"\"\n      }\n    },\n    {\n      \"column\": \"host_id\",\n      \"properties\": {\n        \"dtype\": \"number\",\n        \"std\": 91355122.7596956,\n        \"min\": 2438.0,\n        \"max\": 274321313.0,\n        \"num_unique_values\": 8,\n        \"samples\": [\n          67613097.50541922,\n          107434423.0,\n          48900.0\n        ],\n        \"semantic_type\": \"\",\n        \"description\": \"\"\n      }\n    },\n    {\n      \"column\": \"latitude\",\n      \"properties\": {\n        \"dtype\": \"number\",\n        \"std\": 17276.423979637257,\n        \"min\": 0.0545290367151555,\n        \"max\": 48900.0,\n        \"num_unique_values\": 8,\n        \"samples\": [\n          40.72894941042945,\n          40.7631125,\n          48900.0\n        ],\n        \"semantic_type\": \"\",\n        \"description\": \"\"\n      }\n    },\n    {\n      \"column\": \"longitude\",\n      \"properties\": {\n        \"dtype\": \"number\",\n        \"std\": 17311.192349635654,\n        \"min\": -74.24442,\n        \"max\": 48900.0,\n        \"num_unique_values\": 8,\n        \"samples\": [\n          -73.95217209795501,\n          -73.93628,\n          48900.0\n        ],\n        \"semantic_type\": \"\",\n        \"description\": \"\"\n      }\n    },\n    {\n      \"column\": \"price\",\n      \"properties\": {\n        \"dtype\": \"number\",\n        \"std\": 17099.200994319563,\n        \"min\": 0.0,\n        \"max\": 48900.0,\n        \"num_unique_values\": 8,\n        \"samples\": [\n          152.72051124744377,\n          175.0,\n          48900.0\n        ],\n        \"semantic_type\": \"\",\n        \"description\": \"\"\n      }\n    },\n    {\n      \"column\": \"minimum_nights\",\n      \"properties\": {\n        \"dtype\": \"number\",\n        \"std\": 17229.228846169142,\n        \"min\": 1.0,\n        \"max\": 48900.0,\n        \"num_unique_values\": 7,\n        \"samples\": [\n          48900.0,\n          7.032167689161554,\n          1250.0\n        ],\n        \"semantic_type\": \"\",\n        \"description\": \"\"\n      }\n    },\n    {\n      \"column\": \"number_of_reviews\",\n      \"properties\": {\n        \"dtype\": \"number\",\n        \"std\": 17253.388571154228,\n        \"min\": 0.0,\n        \"max\": 48900.0,\n        \"num_unique_values\": 8,\n        \"samples\": [\n          23.279693251533743,\n          24.0,\n          48900.0\n        ],\n        \"semantic_type\": \"\",\n        \"description\": \"\"\n      }\n    },\n    {\n      \"column\": \"last_review\",\n      \"properties\": {\n        \"dtype\": \"date\",\n        \"min\": \"1970-01-01 00:00:00.000038848\",\n        \"max\": \"2019-07-08 00:00:00\",\n        \"num_unique_values\": 7,\n        \"samples\": [\n          \"38848\",\n          \"2018-10-04 02:02:57.182866432\",\n          \"2019-06-23 00:00:00\"\n        ],\n        \"semantic_type\": \"\",\n        \"description\": \"\"\n      }\n    },\n    {\n      \"column\": \"reviews_per_month\",\n      \"properties\": {\n        \"dtype\": \"number\",\n        \"std\": 13731.59946395842,\n        \"min\": 0.01,\n        \"max\": 38848.0,\n        \"num_unique_values\": 8,\n        \"samples\": [\n          1.3731257722405272,\n          2.02,\n          38848.0\n        ],\n        \"semantic_type\": \"\",\n        \"description\": \"\"\n      }\n    },\n    {\n      \"column\": \"calculated_host_listings_count\",\n      \"properties\": {\n        \"dtype\": \"number\",\n        \"std\": 17270.332380172735,\n        \"min\": 1.0,\n        \"max\": 48900.0,\n        \"num_unique_values\": 6,\n        \"samples\": [\n          48900.0,\n          7.143374233128834,\n          32.95088914407952\n        ],\n        \"semantic_type\": \"\",\n        \"description\": \"\"\n      }\n    },\n    {\n      \"column\": \"availability_365\",\n      \"properties\": {\n        \"dtype\": \"number\",\n        \"std\": 17244.681274661685,\n        \"min\": 0.0,\n        \"max\": 48900.0,\n        \"num_unique_values\": 7,\n        \"samples\": [\n          48900.0,\n          112.78374233128834,\n          365.0\n        ],\n        \"semantic_type\": \"\",\n        \"description\": \"\"\n      }\n    }\n  ]\n}"
            }
          },
          "metadata": {},
          "execution_count": 76
        }
      ]
    },
    {
      "cell_type": "markdown",
      "source": [
        "Q.10) Provide summary statistics for categorical columns. Highlight any unusual calculation you find (If any)"
      ],
      "metadata": {
        "id": "-qENZ1ASrfnT"
      }
    },
    {
      "cell_type": "code",
      "source": [
        "df.describe(include=['object'])"
      ],
      "metadata": {
        "colab": {
          "base_uri": "https://localhost:8080/",
          "height": 192
        },
        "id": "02JwbbInrj78",
        "outputId": "d658a0fb-0b25-4396-a868-e0a60ee48f21"
      },
      "execution_count": 77,
      "outputs": [
        {
          "output_type": "execute_result",
          "data": {
            "text/plain": [
              "                  name host_name neighbourhood_group neighbourhood  \\\n",
              "count            48884     48879               48900         48900   \n",
              "unique           47883     11452                   6           221   \n",
              "top     Hillside Hotel   Michael           Manhattan  Williamsburg   \n",
              "freq                18       417               21664          3920   \n",
              "\n",
              "              room_type  \n",
              "count             48900  \n",
              "unique                3  \n",
              "top     Entire home/apt  \n",
              "freq              25413  "
            ],
            "text/html": [
              "\n",
              "  <div id=\"df-a47875ea-5d38-4496-a755-96cd99c3bace\" class=\"colab-df-container\">\n",
              "    <div>\n",
              "<style scoped>\n",
              "    .dataframe tbody tr th:only-of-type {\n",
              "        vertical-align: middle;\n",
              "    }\n",
              "\n",
              "    .dataframe tbody tr th {\n",
              "        vertical-align: top;\n",
              "    }\n",
              "\n",
              "    .dataframe thead th {\n",
              "        text-align: right;\n",
              "    }\n",
              "</style>\n",
              "<table border=\"1\" class=\"dataframe\">\n",
              "  <thead>\n",
              "    <tr style=\"text-align: right;\">\n",
              "      <th></th>\n",
              "      <th>name</th>\n",
              "      <th>host_name</th>\n",
              "      <th>neighbourhood_group</th>\n",
              "      <th>neighbourhood</th>\n",
              "      <th>room_type</th>\n",
              "    </tr>\n",
              "  </thead>\n",
              "  <tbody>\n",
              "    <tr>\n",
              "      <th>count</th>\n",
              "      <td>48884</td>\n",
              "      <td>48879</td>\n",
              "      <td>48900</td>\n",
              "      <td>48900</td>\n",
              "      <td>48900</td>\n",
              "    </tr>\n",
              "    <tr>\n",
              "      <th>unique</th>\n",
              "      <td>47883</td>\n",
              "      <td>11452</td>\n",
              "      <td>6</td>\n",
              "      <td>221</td>\n",
              "      <td>3</td>\n",
              "    </tr>\n",
              "    <tr>\n",
              "      <th>top</th>\n",
              "      <td>Hillside Hotel</td>\n",
              "      <td>Michael</td>\n",
              "      <td>Manhattan</td>\n",
              "      <td>Williamsburg</td>\n",
              "      <td>Entire home/apt</td>\n",
              "    </tr>\n",
              "    <tr>\n",
              "      <th>freq</th>\n",
              "      <td>18</td>\n",
              "      <td>417</td>\n",
              "      <td>21664</td>\n",
              "      <td>3920</td>\n",
              "      <td>25413</td>\n",
              "    </tr>\n",
              "  </tbody>\n",
              "</table>\n",
              "</div>\n",
              "    <div class=\"colab-df-buttons\">\n",
              "\n",
              "  <div class=\"colab-df-container\">\n",
              "    <button class=\"colab-df-convert\" onclick=\"convertToInteractive('df-a47875ea-5d38-4496-a755-96cd99c3bace')\"\n",
              "            title=\"Convert this dataframe to an interactive table.\"\n",
              "            style=\"display:none;\">\n",
              "\n",
              "  <svg xmlns=\"http://www.w3.org/2000/svg\" height=\"24px\" viewBox=\"0 -960 960 960\">\n",
              "    <path d=\"M120-120v-720h720v720H120Zm60-500h600v-160H180v160Zm220 220h160v-160H400v160Zm0 220h160v-160H400v160ZM180-400h160v-160H180v160Zm440 0h160v-160H620v160ZM180-180h160v-160H180v160Zm440 0h160v-160H620v160Z\"/>\n",
              "  </svg>\n",
              "    </button>\n",
              "\n",
              "  <style>\n",
              "    .colab-df-container {\n",
              "      display:flex;\n",
              "      gap: 12px;\n",
              "    }\n",
              "\n",
              "    .colab-df-convert {\n",
              "      background-color: #E8F0FE;\n",
              "      border: none;\n",
              "      border-radius: 50%;\n",
              "      cursor: pointer;\n",
              "      display: none;\n",
              "      fill: #1967D2;\n",
              "      height: 32px;\n",
              "      padding: 0 0 0 0;\n",
              "      width: 32px;\n",
              "    }\n",
              "\n",
              "    .colab-df-convert:hover {\n",
              "      background-color: #E2EBFA;\n",
              "      box-shadow: 0px 1px 2px rgba(60, 64, 67, 0.3), 0px 1px 3px 1px rgba(60, 64, 67, 0.15);\n",
              "      fill: #174EA6;\n",
              "    }\n",
              "\n",
              "    .colab-df-buttons div {\n",
              "      margin-bottom: 4px;\n",
              "    }\n",
              "\n",
              "    [theme=dark] .colab-df-convert {\n",
              "      background-color: #3B4455;\n",
              "      fill: #D2E3FC;\n",
              "    }\n",
              "\n",
              "    [theme=dark] .colab-df-convert:hover {\n",
              "      background-color: #434B5C;\n",
              "      box-shadow: 0px 1px 3px 1px rgba(0, 0, 0, 0.15);\n",
              "      filter: drop-shadow(0px 1px 2px rgba(0, 0, 0, 0.3));\n",
              "      fill: #FFFFFF;\n",
              "    }\n",
              "  </style>\n",
              "\n",
              "    <script>\n",
              "      const buttonEl =\n",
              "        document.querySelector('#df-a47875ea-5d38-4496-a755-96cd99c3bace button.colab-df-convert');\n",
              "      buttonEl.style.display =\n",
              "        google.colab.kernel.accessAllowed ? 'block' : 'none';\n",
              "\n",
              "      async function convertToInteractive(key) {\n",
              "        const element = document.querySelector('#df-a47875ea-5d38-4496-a755-96cd99c3bace');\n",
              "        const dataTable =\n",
              "          await google.colab.kernel.invokeFunction('convertToInteractive',\n",
              "                                                    [key], {});\n",
              "        if (!dataTable) return;\n",
              "\n",
              "        const docLinkHtml = 'Like what you see? Visit the ' +\n",
              "          '<a target=\"_blank\" href=https://colab.research.google.com/notebooks/data_table.ipynb>data table notebook</a>'\n",
              "          + ' to learn more about interactive tables.';\n",
              "        element.innerHTML = '';\n",
              "        dataTable['output_type'] = 'display_data';\n",
              "        await google.colab.output.renderOutput(dataTable, element);\n",
              "        const docLink = document.createElement('div');\n",
              "        docLink.innerHTML = docLinkHtml;\n",
              "        element.appendChild(docLink);\n",
              "      }\n",
              "    </script>\n",
              "  </div>\n",
              "\n",
              "\n",
              "<div id=\"df-bb00ae34-0b45-4d67-9f98-055cc69b0e51\">\n",
              "  <button class=\"colab-df-quickchart\" onclick=\"quickchart('df-bb00ae34-0b45-4d67-9f98-055cc69b0e51')\"\n",
              "            title=\"Suggest charts\"\n",
              "            style=\"display:none;\">\n",
              "\n",
              "<svg xmlns=\"http://www.w3.org/2000/svg\" height=\"24px\"viewBox=\"0 0 24 24\"\n",
              "     width=\"24px\">\n",
              "    <g>\n",
              "        <path d=\"M19 3H5c-1.1 0-2 .9-2 2v14c0 1.1.9 2 2 2h14c1.1 0 2-.9 2-2V5c0-1.1-.9-2-2-2zM9 17H7v-7h2v7zm4 0h-2V7h2v10zm4 0h-2v-4h2v4z\"/>\n",
              "    </g>\n",
              "</svg>\n",
              "  </button>\n",
              "\n",
              "<style>\n",
              "  .colab-df-quickchart {\n",
              "      --bg-color: #E8F0FE;\n",
              "      --fill-color: #1967D2;\n",
              "      --hover-bg-color: #E2EBFA;\n",
              "      --hover-fill-color: #174EA6;\n",
              "      --disabled-fill-color: #AAA;\n",
              "      --disabled-bg-color: #DDD;\n",
              "  }\n",
              "\n",
              "  [theme=dark] .colab-df-quickchart {\n",
              "      --bg-color: #3B4455;\n",
              "      --fill-color: #D2E3FC;\n",
              "      --hover-bg-color: #434B5C;\n",
              "      --hover-fill-color: #FFFFFF;\n",
              "      --disabled-bg-color: #3B4455;\n",
              "      --disabled-fill-color: #666;\n",
              "  }\n",
              "\n",
              "  .colab-df-quickchart {\n",
              "    background-color: var(--bg-color);\n",
              "    border: none;\n",
              "    border-radius: 50%;\n",
              "    cursor: pointer;\n",
              "    display: none;\n",
              "    fill: var(--fill-color);\n",
              "    height: 32px;\n",
              "    padding: 0;\n",
              "    width: 32px;\n",
              "  }\n",
              "\n",
              "  .colab-df-quickchart:hover {\n",
              "    background-color: var(--hover-bg-color);\n",
              "    box-shadow: 0 1px 2px rgba(60, 64, 67, 0.3), 0 1px 3px 1px rgba(60, 64, 67, 0.15);\n",
              "    fill: var(--button-hover-fill-color);\n",
              "  }\n",
              "\n",
              "  .colab-df-quickchart-complete:disabled,\n",
              "  .colab-df-quickchart-complete:disabled:hover {\n",
              "    background-color: var(--disabled-bg-color);\n",
              "    fill: var(--disabled-fill-color);\n",
              "    box-shadow: none;\n",
              "  }\n",
              "\n",
              "  .colab-df-spinner {\n",
              "    border: 2px solid var(--fill-color);\n",
              "    border-color: transparent;\n",
              "    border-bottom-color: var(--fill-color);\n",
              "    animation:\n",
              "      spin 1s steps(1) infinite;\n",
              "  }\n",
              "\n",
              "  @keyframes spin {\n",
              "    0% {\n",
              "      border-color: transparent;\n",
              "      border-bottom-color: var(--fill-color);\n",
              "      border-left-color: var(--fill-color);\n",
              "    }\n",
              "    20% {\n",
              "      border-color: transparent;\n",
              "      border-left-color: var(--fill-color);\n",
              "      border-top-color: var(--fill-color);\n",
              "    }\n",
              "    30% {\n",
              "      border-color: transparent;\n",
              "      border-left-color: var(--fill-color);\n",
              "      border-top-color: var(--fill-color);\n",
              "      border-right-color: var(--fill-color);\n",
              "    }\n",
              "    40% {\n",
              "      border-color: transparent;\n",
              "      border-right-color: var(--fill-color);\n",
              "      border-top-color: var(--fill-color);\n",
              "    }\n",
              "    60% {\n",
              "      border-color: transparent;\n",
              "      border-right-color: var(--fill-color);\n",
              "    }\n",
              "    80% {\n",
              "      border-color: transparent;\n",
              "      border-right-color: var(--fill-color);\n",
              "      border-bottom-color: var(--fill-color);\n",
              "    }\n",
              "    90% {\n",
              "      border-color: transparent;\n",
              "      border-bottom-color: var(--fill-color);\n",
              "    }\n",
              "  }\n",
              "</style>\n",
              "\n",
              "  <script>\n",
              "    async function quickchart(key) {\n",
              "      const quickchartButtonEl =\n",
              "        document.querySelector('#' + key + ' button');\n",
              "      quickchartButtonEl.disabled = true;  // To prevent multiple clicks.\n",
              "      quickchartButtonEl.classList.add('colab-df-spinner');\n",
              "      try {\n",
              "        const charts = await google.colab.kernel.invokeFunction(\n",
              "            'suggestCharts', [key], {});\n",
              "      } catch (error) {\n",
              "        console.error('Error during call to suggestCharts:', error);\n",
              "      }\n",
              "      quickchartButtonEl.classList.remove('colab-df-spinner');\n",
              "      quickchartButtonEl.classList.add('colab-df-quickchart-complete');\n",
              "    }\n",
              "    (() => {\n",
              "      let quickchartButtonEl =\n",
              "        document.querySelector('#df-bb00ae34-0b45-4d67-9f98-055cc69b0e51 button');\n",
              "      quickchartButtonEl.style.display =\n",
              "        google.colab.kernel.accessAllowed ? 'block' : 'none';\n",
              "    })();\n",
              "  </script>\n",
              "</div>\n",
              "\n",
              "    </div>\n",
              "  </div>\n"
            ],
            "application/vnd.google.colaboratory.intrinsic+json": {
              "type": "dataframe",
              "summary": "{\n  \"name\": \"df\",\n  \"rows\": 4,\n  \"fields\": [\n    {\n      \"column\": \"name\",\n      \"properties\": {\n        \"dtype\": \"string\",\n        \"num_unique_values\": 4,\n        \"samples\": [\n          47883,\n          \"18\",\n          \"48884\"\n        ],\n        \"semantic_type\": \"\",\n        \"description\": \"\"\n      }\n    },\n    {\n      \"column\": \"host_name\",\n      \"properties\": {\n        \"dtype\": \"string\",\n        \"num_unique_values\": 4,\n        \"samples\": [\n          11452,\n          \"417\",\n          \"48879\"\n        ],\n        \"semantic_type\": \"\",\n        \"description\": \"\"\n      }\n    },\n    {\n      \"column\": \"neighbourhood_group\",\n      \"properties\": {\n        \"dtype\": \"string\",\n        \"num_unique_values\": 4,\n        \"samples\": [\n          6,\n          \"21664\",\n          \"48900\"\n        ],\n        \"semantic_type\": \"\",\n        \"description\": \"\"\n      }\n    },\n    {\n      \"column\": \"neighbourhood\",\n      \"properties\": {\n        \"dtype\": \"string\",\n        \"num_unique_values\": 4,\n        \"samples\": [\n          221,\n          \"3920\",\n          \"48900\"\n        ],\n        \"semantic_type\": \"\",\n        \"description\": \"\"\n      }\n    },\n    {\n      \"column\": \"room_type\",\n      \"properties\": {\n        \"dtype\": \"string\",\n        \"num_unique_values\": 4,\n        \"samples\": [\n          3,\n          \"25413\",\n          \"48900\"\n        ],\n        \"semantic_type\": \"\",\n        \"description\": \"\"\n      }\n    }\n  ]\n}"
            }
          },
          "metadata": {},
          "execution_count": 77
        }
      ]
    },
    {
      "cell_type": "markdown",
      "source": [
        "Q.11) Identify duplicate rows in the dataset and remove them to ensure data integrity."
      ],
      "metadata": {
        "id": "Jr6O6qaCrmHb"
      }
    },
    {
      "cell_type": "code",
      "source": [
        "df = df.drop_duplicates()\n",
        "print(df.shape)"
      ],
      "metadata": {
        "colab": {
          "base_uri": "https://localhost:8080/"
        },
        "id": "81KBNcoYrpRP",
        "outputId": "e0c7a6f0-3cd7-4144-b3c0-6309d299b326"
      },
      "execution_count": 78,
      "outputs": [
        {
          "output_type": "stream",
          "name": "stdout",
          "text": [
            "(48895, 16)\n"
          ]
        }
      ]
    },
    {
      "cell_type": "markdown",
      "source": [
        "Q.12) Check each column for null or empty values to understand the extent of missing data."
      ],
      "metadata": {
        "id": "vGOJPauLr2M2"
      }
    },
    {
      "cell_type": "code",
      "source": [
        "df.isnull().sum()"
      ],
      "metadata": {
        "colab": {
          "base_uri": "https://localhost:8080/"
        },
        "id": "fHdIagRtr5YN",
        "outputId": "678ff0f5-3dd5-41da-a224-8d79bf0d8ac1"
      },
      "execution_count": 79,
      "outputs": [
        {
          "output_type": "execute_result",
          "data": {
            "text/plain": [
              "id                                    0\n",
              "name                                 16\n",
              "host_id                               0\n",
              "host_name                            21\n",
              "neighbourhood_group                   0\n",
              "neighbourhood                         0\n",
              "latitude                              0\n",
              "longitude                             0\n",
              "room_type                             0\n",
              "price                                 0\n",
              "minimum_nights                        0\n",
              "number_of_reviews                     0\n",
              "last_review                       10052\n",
              "reviews_per_month                 10052\n",
              "calculated_host_listings_count        0\n",
              "availability_365                      0\n",
              "dtype: int64"
            ]
          },
          "metadata": {},
          "execution_count": 79
        }
      ]
    },
    {
      "cell_type": "markdown",
      "source": [
        "Q.13) Replace null values in columns with suitable replacements"
      ],
      "metadata": {
        "id": "fB2QMPUVr9Zv"
      }
    },
    {
      "cell_type": "code",
      "source": [
        "df['reviews_per_month'].fillna(0, inplace=True)\n",
        "df['last_review'].fillna(pd.Timestamp('1900-01-01'), inplace=True)\n",
        "print(df.isnull().sum())"
      ],
      "metadata": {
        "colab": {
          "base_uri": "https://localhost:8080/"
        },
        "id": "lXqP7zCjsATj",
        "outputId": "11797af1-d4ce-48f1-b2c8-7ed9429da1b2"
      },
      "execution_count": 80,
      "outputs": [
        {
          "output_type": "stream",
          "name": "stdout",
          "text": [
            "id                                 0\n",
            "name                              16\n",
            "host_id                            0\n",
            "host_name                         21\n",
            "neighbourhood_group                0\n",
            "neighbourhood                      0\n",
            "latitude                           0\n",
            "longitude                          0\n",
            "room_type                          0\n",
            "price                              0\n",
            "minimum_nights                     0\n",
            "number_of_reviews                  0\n",
            "last_review                        0\n",
            "reviews_per_month                  0\n",
            "calculated_host_listings_count     0\n",
            "availability_365                   0\n",
            "dtype: int64\n"
          ]
        },
        {
          "output_type": "stream",
          "name": "stderr",
          "text": [
            "<ipython-input-80-9a9349abf31b>:1: SettingWithCopyWarning: \n",
            "A value is trying to be set on a copy of a slice from a DataFrame\n",
            "\n",
            "See the caveats in the documentation: https://pandas.pydata.org/pandas-docs/stable/user_guide/indexing.html#returning-a-view-versus-a-copy\n",
            "  df['reviews_per_month'].fillna(0, inplace=True)\n",
            "<ipython-input-80-9a9349abf31b>:2: SettingWithCopyWarning: \n",
            "A value is trying to be set on a copy of a slice from a DataFrame\n",
            "\n",
            "See the caveats in the documentation: https://pandas.pydata.org/pandas-docs/stable/user_guide/indexing.html#returning-a-view-versus-a-copy\n",
            "  df['last_review'].fillna(pd.Timestamp('1900-01-01'), inplace=True)\n"
          ]
        }
      ]
    },
    {
      "cell_type": "markdown",
      "source": [
        "Q.14) Drop columns (last_review, name and id)"
      ],
      "metadata": {
        "id": "Aq-HgyxDsK81"
      }
    },
    {
      "cell_type": "code",
      "source": [
        "df.drop(['last_review', 'name', 'id'], axis=1, inplace=True)\n",
        "print(df.columns)"
      ],
      "metadata": {
        "colab": {
          "base_uri": "https://localhost:8080/"
        },
        "id": "3jfN_D9CsPGY",
        "outputId": "d962b101-401b-4b42-fb8a-501ad9064ca7"
      },
      "execution_count": 81,
      "outputs": [
        {
          "output_type": "stream",
          "name": "stdout",
          "text": [
            "Index(['host_id', 'host_name', 'neighbourhood_group', 'neighbourhood',\n",
            "       'latitude', 'longitude', 'room_type', 'price', 'minimum_nights',\n",
            "       'number_of_reviews', 'reviews_per_month',\n",
            "       'calculated_host_listings_count', 'availability_365'],\n",
            "      dtype='object')\n"
          ]
        }
      ]
    },
    {
      "cell_type": "markdown",
      "source": [
        "Q.15) Find number of unique values for the columns ‘room_type’, 'neighbourhood_group' and 'neighbourhood'. Highlight the unusual answer if any and tackle with it."
      ],
      "metadata": {
        "id": "2t0TZDFEs336"
      }
    },
    {
      "cell_type": "code",
      "source": [
        "df['room_type'].nunique()\n",
        "df['neighbourhood_group'].nunique()\n",
        "df['neighbourhood'].nunique()"
      ],
      "metadata": {
        "colab": {
          "base_uri": "https://localhost:8080/"
        },
        "id": "cImpahdzs8PN",
        "outputId": "b0b3b7ed-e28e-45df-c7d1-aa9624c1465e"
      },
      "execution_count": 82,
      "outputs": [
        {
          "output_type": "execute_result",
          "data": {
            "text/plain": [
              "221"
            ]
          },
          "metadata": {},
          "execution_count": 82
        }
      ]
    },
    {
      "cell_type": "markdown",
      "source": [
        "Q.16) What are the top 10 host IDs with the highest number of bookings?"
      ],
      "metadata": {
        "id": "qMRM3pkbvRx9"
      }
    },
    {
      "cell_type": "code",
      "source": [
        "top_10_hosts = df['host_id'].value_counts().head(10)\n",
        "print(top_10_hosts)"
      ],
      "metadata": {
        "colab": {
          "base_uri": "https://localhost:8080/"
        },
        "id": "3A9Oi6ADvU5Z",
        "outputId": "b911c97e-27cf-481d-bb62-2bfcf3a4f43a"
      },
      "execution_count": 83,
      "outputs": [
        {
          "output_type": "stream",
          "name": "stdout",
          "text": [
            "host_id\n",
            "219517861    327\n",
            "107434423    232\n",
            "30283594     121\n",
            "137358866    103\n",
            "16098958      96\n",
            "12243051      96\n",
            "61391963      91\n",
            "22541573      87\n",
            "200380610     65\n",
            "7503643       52\n",
            "Name: count, dtype: int64\n"
          ]
        }
      ]
    },
    {
      "cell_type": "markdown",
      "source": [
        "Q.17) Identify and list the top 10 host names based on the number of bookings and create a bar chart to visualize this data."
      ],
      "metadata": {
        "id": "Jo27WokSvYwD"
      }
    },
    {
      "cell_type": "code",
      "source": [
        "top_10_host_names = df['host_name'].value_counts().head(10)\n",
        "print(top_10_host_names)\n",
        "top_10_host_names.plot(kind='bar')"
      ],
      "metadata": {
        "colab": {
          "base_uri": "https://localhost:8080/",
          "height": 754
        },
        "id": "XxzP_yd-vcL0",
        "outputId": "3490b3b2-d2f9-417e-b80f-1ae009d5791f"
      },
      "execution_count": 84,
      "outputs": [
        {
          "output_type": "stream",
          "name": "stdout",
          "text": [
            "host_name\n",
            "Michael         417\n",
            "David           403\n",
            "Sonder (NYC)    327\n",
            "John            294\n",
            "Alex            279\n",
            "Blueground      232\n",
            "Sarah           227\n",
            "Daniel          226\n",
            "Jessica         205\n",
            "Maria           204\n",
            "Name: count, dtype: int64\n"
          ]
        },
        {
          "output_type": "execute_result",
          "data": {
            "text/plain": [
              "<Axes: xlabel='host_name'>"
            ]
          },
          "metadata": {},
          "execution_count": 84
        },
        {
          "output_type": "display_data",
          "data": {
            "text/plain": [
              "<Figure size 640x480 with 1 Axes>"
            ],
            "image/png": "[encoded data removed]"
          },
          "metadata": {}
        }
      ]
    },
    {
      "cell_type": "markdown",
      "source": [
        "Q.18) What types of rooms does the host with the highest number of bookings offer, and what is the price range for these rooms?"
      ],
      "metadata": {
        "id": "wREccs-7vgLM"
      }
    },
    {
      "cell_type": "code",
      "source": [
        "top_host_id = top_10_hosts.index[0]\n",
        "top_host_rooms = df[df['host_id'] == top_host_id]\n",
        "print(top_host_rooms['room_type'].value_counts())\n",
        "print(top_host_rooms['price'].min(), top_host_rooms['price'].max())"
      ],
      "metadata": {
        "colab": {
          "base_uri": "https://localhost:8080/"
        },
        "id": "7r3bHlnVvjeF",
        "outputId": "71df8507-e034-448e-a646-ebcfc65a6b4f"
      },
      "execution_count": 85,
      "outputs": [
        {
          "output_type": "stream",
          "name": "stdout",
          "text": [
            "room_type\n",
            "Entire home/apt    319\n",
            "Private room         8\n",
            "Name: count, dtype: int64\n",
            "100 699\n"
          ]
        }
      ]
    },
    {
      "cell_type": "markdown",
      "source": [
        "Q.20) Identify the neighbourhood group with the highest number of bookings and visualize the data using a pie chart."
      ],
      "metadata": {
        "id": "esr9f-qGvmJ_"
      }
    },
    {
      "cell_type": "code",
      "source": [
        "neighbourhood_group_bookings = df['neighbourhood_group'].value_counts()\n",
        "print(neighbourhood_group_bookings)\n",
        "neighbourhood_group_bookings.plot(kind='pie', autopct='%1.1f%%')"
      ],
      "metadata": {
        "colab": {
          "base_uri": "https://localhost:8080/",
          "height": 562
        },
        "id": "ls5zD4WUvo1r",
        "outputId": "6b45ce95-dff5-494f-cb85-1f390b54c2f1"
      },
      "execution_count": 86,
      "outputs": [
        {
          "output_type": "stream",
          "name": "stdout",
          "text": [
            "neighbourhood_group\n",
            "Manhattan        21661\n",
            "Brooklyn         20101\n",
            "Queens            5666\n",
            "Bronx             1091\n",
            "Staten Island      373\n",
            "Broklyn              3\n",
            "Name: count, dtype: int64\n"
          ]
        },
        {
          "output_type": "execute_result",
          "data": {
            "text/plain": [
              "<Axes: ylabel='count'>"
            ]
          },
          "metadata": {},
          "execution_count": 86
        },
        {
          "output_type": "display_data",
          "data": {
            "text/plain": [
              "<Figure size 640x480 with 1 Axes>"
            ],
            "image/png": "[encoded data removed]"
          },
          "metadata": {}
        }
      ]
    },
    {
      "cell_type": "markdown",
      "source": [
        "Q.21) Calculate the average price of all listings in the dataset."
      ],
      "metadata": {
        "id": "kzHnC0jSvs7n"
      }
    },
    {
      "cell_type": "code",
      "source": [
        "average_price = df['price'].mean()\n",
        "print(average_price)"
      ],
      "metadata": {
        "colab": {
          "base_uri": "https://localhost:8080/"
        },
        "id": "mEL5n7L5vvL5",
        "outputId": "8f7e4196-c042-4ecd-a3ab-867e2f6dbd2c"
      },
      "execution_count": 87,
      "outputs": [
        {
          "output_type": "stream",
          "name": "stdout",
          "text": [
            "152.7206871868289\n"
          ]
        }
      ]
    },
    {
      "cell_type": "markdown",
      "source": [
        "Q.22) Determine the minimum and maximum prices of the listings in the dataset."
      ],
      "metadata": {
        "id": "usp6_0oQvyK3"
      }
    },
    {
      "cell_type": "code",
      "source": [
        "min_price = df['price'].min()\n",
        "max_price = df['price'].max()\n",
        "print(min_price, max_price)"
      ],
      "metadata": {
        "colab": {
          "base_uri": "https://localhost:8080/"
        },
        "id": "T_nNKz7Xv1j5",
        "outputId": "a37003ef-4bdb-4c8c-fefa-628f288e51ef"
      },
      "execution_count": 88,
      "outputs": [
        {
          "output_type": "stream",
          "name": "stdout",
          "text": [
            "0 10000\n"
          ]
        }
      ]
    },
    {
      "cell_type": "markdown",
      "source": [
        "Q.23) Compare the average prices of different room types to see how they vary."
      ],
      "metadata": {
        "id": "2p62PUepv4t2"
      }
    },
    {
      "cell_type": "code",
      "source": [
        "average_price_by_room_type = df.groupby('room_type')['price'].mean()\n",
        "print(average_price_by_room_type)"
      ],
      "metadata": {
        "colab": {
          "base_uri": "https://localhost:8080/"
        },
        "id": "NViVNIOQv7E-",
        "outputId": "10394957-9888-4b39-f0a3-5041d13869e5"
      },
      "execution_count": 89,
      "outputs": [
        {
          "output_type": "stream",
          "name": "stdout",
          "text": [
            "room_type\n",
            "Entire home/apt    211.794246\n",
            "Private room        89.780973\n",
            "Shared room         70.127586\n",
            "Name: price, dtype: float64\n"
          ]
        }
      ]
    },
    {
      "cell_type": "markdown",
      "source": [
        " Q.24) Identify the neighbourhood group with the highest number of reviews and highlight any interesting findings."
      ],
      "metadata": {
        "id": "BDmR7KF-v-mG"
      }
    },
    {
      "cell_type": "code",
      "source": [
        "neighbourhood_group_reviews = df.groupby('neighbourhood_group')['number_of_reviews'].sum()\n",
        "print(neighbourhood_group_reviews)"
      ],
      "metadata": {
        "colab": {
          "base_uri": "https://localhost:8080/"
        },
        "id": "1scTcAxwwBdN",
        "outputId": "f5bcb13c-732c-438a-d1cf-425b30cb10ea"
      },
      "execution_count": 90,
      "outputs": [
        {
          "output_type": "stream",
          "name": "stdout",
          "text": [
            "neighbourhood_group\n",
            "Broklyn             172\n",
            "Bronx             28371\n",
            "Brooklyn         486402\n",
            "Manhattan        454569\n",
            "Queens           156950\n",
            "Staten Island     11541\n",
            "Name: number_of_reviews, dtype: int64\n"
          ]
        }
      ]
    }
  ]
}