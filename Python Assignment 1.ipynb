{
 "cells": [
  {
   "cell_type": "markdown",
   "id": "33956be4",
   "metadata": {},
   "source": [
    "#### [Question1] \n",
    "\n",
    "a) Create a string variable called my_str containing the following sentence: Python programming is fun and powerful! <br>\n",
    "b) Find the length of my_str. <br>\n",
    "c) Replace \"fun\" in my_str with \"exciting.\" Store this back in my_str and print my_str <br>\n",
    "d) Find the index of the word powerful in my_str <br>\n",
    "e) Split the string into a list of words (google which function can help you do this). Store this in my_str_to_list and print it"
   ]
  },
  {
   "cell_type": "code",
   "execution_count": null,
   "id": "4dfe59e8",
   "metadata": {},
   "outputs": [],
   "source": [
    "# create my_str below\n",
    "\n"
   ]
  },
  {
   "cell_type": "code",
   "execution_count": null,
   "id": "33b969da",
   "metadata": {},
   "outputs": [],
   "source": [
    "# find out the length of my_str. no need to store this anywhere\n",
    "\n"
   ]
  },
  {
   "cell_type": "code",
   "execution_count": null,
   "id": "b45d1a3b",
   "metadata": {},
   "outputs": [],
   "source": [
    "# update my_str so it has the word exciting instead of fun. print my_str at the end\n",
    "\n",
    "\n"
   ]
  },
  {
   "cell_type": "code",
   "execution_count": null,
   "id": "4c67c03c",
   "metadata": {},
   "outputs": [],
   "source": [
    "# find the index of the word powerful in my_str\n",
    "\n",
    "\n"
   ]
  },
  {
   "cell_type": "code",
   "execution_count": null,
   "id": "bdfffa17",
   "metadata": {},
   "outputs": [],
   "source": [
    "# create my_str_to_list and store my_str split into a list of words in this. print my_str_to_list\n",
    "\n",
    "\n"
   ]
  },
  {
   "cell_type": "markdown",
   "id": "2235471f",
   "metadata": {},
   "source": [
    "#### [Question2]\n",
    "Given a variable called Celsius with the value 108.6, convert it to Fahrenheit. Google the formula for celcius to fahrenheit conversion. Print out Fahrenheit. "
   ]
  },
  {
   "cell_type": "code",
   "execution_count": null,
   "id": "3364767a",
   "metadata": {},
   "outputs": [],
   "source": [
    "Celsius = 108.6\n",
    "\n",
    "Fahrenheit =  # write your conversion formula here\n",
    "\n",
    "\n",
    "#print out Fahrenheit below\n",
    "\n"
   ]
  },
  {
   "cell_type": "markdown",
   "id": "f7069988",
   "metadata": {},
   "source": [
    "#### [Question3]\n",
    "\n",
    "A university wants to write a program that will help them decide the eligibility of each applicant. The conditions are: \n",
    "- all admits must be 18 or older in age\n",
    "- if their GPA is 3.0 or above, they are eligible. If their GPA is 2.8 or above, they are eligible based on a performance test. Otherwise they are not eligible. \n",
    "\n",
    "\n",
    "Given the three lists names, ages and GPA:\n",
    "\n",
    "Write a for loop that will print out the following three things in each iteration:\n",
    "\n",
    "- Student (insert name) has age (insert age) and GPA (insert GPA)\n",
    "- Eligible for admission/ Eligible for admission based on performance test/ Not eligible for admission\n",
    "- New line\n",
    "\n",
    "example:\n",
    "\n",
    "Student Hassan Ali has age 19 and GPA 3.0 <br>\n",
    "Eligible for admission"
   ]
  },
  {
   "cell_type": "code",
   "execution_count": null,
   "id": "3bd3d902",
   "metadata": {},
   "outputs": [],
   "source": [
    "names = ['Hassan Ali', 'Rabbiya Sarmad', 'Zara Haq', 'Hussain Rafay', 'Dua Hamid']\n",
    "ages = [19, 17, 15, 21, 18, 20]\n",
    "GPA = [3.0, 3.9, 2.5, 3.1, 2.9]\n",
    "\n",
    "\n",
    "# Write your for loop below:\n",
    "\n",
    "\n",
    "\n",
    "        "
   ]
  },
  {
   "cell_type": "markdown",
   "id": "893405b9",
   "metadata": {},
   "source": [
    "#### [Question 4]\n",
    "\n",
    "Given the following list called numbers:\n",
    "\n",
    "a) Convert it into a tuple and print it. <br>\n",
    "b) Calculate the sum of this tuple. Store it in sum_numbers. print sum_numbers <br>\n",
    "c) Using slicing, fetch every odd indexed element from numbers <br>\n",
    "d) Create new **lists** called evens and odds. Using ONE for loop, add every even integer from the numbers tuple to evens and every odd number to odds. in the end, print numbers, evens and odds. <br>\n",
    "e) Would it be possible to do this if evens and odds were tuples instead of lists?"
   ]
  },
  {
   "cell_type": "code",
   "execution_count": null,
   "id": "f0e87e0d",
   "metadata": {},
   "outputs": [],
   "source": [
    "numbers =  [12, 34, 45, 67, 89, 100, 23, 56]\n",
    "\n",
    "#convert numbers into a tuple below and print numbers\n",
    "\n",
    "\n"
   ]
  },
  {
   "cell_type": "code",
   "execution_count": null,
   "id": "a41a80cb",
   "metadata": {},
   "outputs": [],
   "source": [
    "# create sum_numbers and store the sum of numbers in it. print sum_numbers\n",
    "\n",
    "\n"
   ]
  },
  {
   "cell_type": "code",
   "execution_count": null,
   "id": "5908766a",
   "metadata": {},
   "outputs": [],
   "source": [
    "# fetch every odd indexed element from numbers below. No need to store this anywhere, just show output\n",
    "\n"
   ]
  },
  {
   "cell_type": "code",
   "execution_count": null,
   "id": "027c59f5",
   "metadata": {},
   "outputs": [],
   "source": [
    "# create empty lists called evens and odds below:\n",
    "\n",
    "\n",
    "\n",
    "# write a single for loop to add integers from the numbers tuple to evens and odds lists below:\n",
    "\n",
    "\n",
    "\n",
    "\n",
    "# print out numbers, evens and odd below\n",
    "\n",
    "\n"
   ]
  },
  {
   "cell_type": "code",
   "execution_count": null,
   "id": "4f801920",
   "metadata": {},
   "outputs": [],
   "source": [
    "# comment if the above would be possible to do if evens and odds were tuples instead of lists?\n",
    "\n",
    "\n"
   ]
  },
  {
   "cell_type": "markdown",
   "id": "b0bf88d8",
   "metadata": {},
   "source": [
    "#### [Question 5]\n",
    "\n",
    "a) Create a list called fruits containing the following fruits: apple, banana, orange, grape, kiwi, mango <br>\n",
    "b) Using a for loop, update every single item in fruits so that the first letter is capitalized. Print fruits at the end"
   ]
  },
  {
   "cell_type": "code",
   "execution_count": null,
   "id": "0d1aed0e",
   "metadata": {},
   "outputs": [],
   "source": [
    "# create fruits below\n",
    "\n",
    "\n",
    "\n",
    "# write a for loop to capitalize every element in fruits below\n",
    "\n",
    "\n",
    "\n",
    "\n",
    "\n",
    "#print updated fruits below\n",
    "\n",
    "\n"
   ]
  },
  {
   "cell_type": "markdown",
   "id": "57fe7528",
   "metadata": {},
   "source": [
    "#### [Question 6]\n",
    "\n",
    "a) Create a dictionary named \"capitals\" with three key-value pairs: \"USA\" - \"Washington DC\", \"France\" - \"Paris\",  and \"Japan\" - \"Tokyo\". Print the dictionary. <br>\n",
    "b) Add a new country and its capital to the \"capitals\" dictionary. The country is \"Germany\" and the capital is \"Berlin\". Print the updated dictionary. <br>\n",
    "c) Check if \"France\" exists in the \"capitals\" dictionary. If it does, print \"France is in the dictionary\" otherwise, print \"France is not in the dictionary\" (hint: you will need to use the keyword in)"
   ]
  },
  {
   "cell_type": "code",
   "execution_count": null,
   "id": "fe365bbe",
   "metadata": {},
   "outputs": [],
   "source": [
    "# create the dictionary capitals below with its key:value pairs and print it\n",
    "\n",
    "\n"
   ]
  },
  {
   "cell_type": "code",
   "execution_count": null,
   "id": "d219c2ce",
   "metadata": {},
   "outputs": [],
   "source": [
    "# add germany to capitals below and print updated dictionary\n",
    "\n",
    "\n"
   ]
  },
  {
   "cell_type": "code",
   "execution_count": null,
   "id": "65940d65",
   "metadata": {},
   "outputs": [],
   "source": [
    "# check if france is in the dictionary and print \"France is in the dictionary\" or \"France is not in the dictionary\"\n",
    "\n",
    "\n"
   ]
  }
 ],
 "metadata": {
  "kernelspec": {
   "display_name": "Python 3 (ipykernel)",
   "language": "python",
   "name": "python3"
  },
  "language_info": {
   "codemirror_mode": {
    "name": "ipython",
    "version": 3
   },
   "file_extension": ".py",
   "mimetype": "text/x-python",
   "name": "python",
   "nbconvert_exporter": "python",
   "pygments_lexer": "ipython3",
   "version": "3.9.13"
  }
 },
 "nbformat": 4,
 "nbformat_minor": 5
}
